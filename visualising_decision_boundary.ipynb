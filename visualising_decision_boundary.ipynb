{
 "cells": [
  {
   "cell_type": "code",
   "execution_count": 36,
   "metadata": {},
   "outputs": [],
   "source": [
    "import torch\n",
    "import torchvision.datasets as datasets\n",
    "import matplotlib.pyplot as plt\n",
    "from collections import Counter\n",
    "import numpy as np\n",
    "from torchvision.transforms import ToTensor\n",
    "from torch.utils.data import DataLoader, TensorDataset, random_split\n",
    "import torch.nn as nn\n",
    "from torch import optim\n",
    "from torch.autograd import Variable\n",
    "import scipy.io as sio\n",
    "from sklearn.model_selection import train_test_split\n",
    "from sklearn.metrics import confusion_matrix\n",
    "from sklearn.metrics import classification_report\n",
    "from torchvision import datasets, transforms\n",
    "from tqdm import tqdm\n",
    "from sklearn.decomposition import PCA"
   ]
  },
  {
   "cell_type": "code",
   "execution_count": 2,
   "metadata": {},
   "outputs": [],
   "source": [
    "import wandb"
   ]
  },
  {
   "cell_type": "code",
   "execution_count": 3,
   "metadata": {},
   "outputs": [
    {
     "name": "stderr",
     "output_type": "stream",
     "text": [
      "Failed to detect the name of this notebook, you can set it manually with the WANDB_NOTEBOOK_NAME environment variable to enable code saving.\n",
      "\u001b[34m\u001b[1mwandb\u001b[0m: Currently logged in as: \u001b[33msanika-damle\u001b[0m (\u001b[33mproject-ai-scream\u001b[0m). Use \u001b[1m`wandb login --relogin`\u001b[0m to force relogin\n"
     ]
    },
    {
     "data": {
      "text/plain": [
       "True"
      ]
     },
     "execution_count": 3,
     "metadata": {},
     "output_type": "execute_result"
    }
   ],
   "source": [
    "wandb.login()"
   ]
  },
  {
   "cell_type": "code",
   "execution_count": 5,
   "metadata": {},
   "outputs": [
    {
     "name": "stdout",
     "output_type": "stream",
     "text": [
      "Downloading https://www.cs.toronto.edu/~kriz/cifar-10-python.tar.gz to /scratch/cifar10/cifar-10-python.tar.gz\n"
     ]
    },
    {
     "name": "stderr",
     "output_type": "stream",
     "text": [
      "100%|██████████| 170498071/170498071 [09:45<00:00, 291175.94it/s] \n"
     ]
    },
    {
     "name": "stdout",
     "output_type": "stream",
     "text": [
      "Extracting /scratch/cifar10/cifar-10-python.tar.gz to /scratch/cifar10\n"
     ]
    }
   ],
   "source": [
    "test = datasets.CIFAR10(root='/scratch/cifar10', train=False, download=True, transform=ToTensor())"
   ]
  },
  {
   "cell_type": "code",
   "execution_count": 6,
   "metadata": {},
   "outputs": [
    {
     "name": "stdout",
     "output_type": "stream",
     "text": [
      "Files already downloaded and verified\n"
     ]
    }
   ],
   "source": [
    "train = datasets.CIFAR10(root='/scratch/cifar10', train=True, download=True, transform=ToTensor())"
   ]
  },
  {
   "cell_type": "code",
   "execution_count": 8,
   "metadata": {},
   "outputs": [],
   "source": [
    "loader = {\n",
    "    'train': DataLoader(train, batch_size=256, shuffle=True),\n",
    "    'test': DataLoader(test, batch_size=512, shuffle=True)\n",
    "}"
   ]
  },
  {
   "cell_type": "code",
   "execution_count": 65,
   "metadata": {},
   "outputs": [
    {
     "data": {
      "text/plain": [
       "device(type='cuda')"
      ]
     },
     "execution_count": 65,
     "metadata": {},
     "output_type": "execute_result"
    }
   ],
   "source": [
    "# set device\n",
    "device = torch.device('cuda' if torch.cuda.is_available() else 'cpu')\n",
    "device"
   ]
  },
  {
   "cell_type": "code",
   "execution_count": 45,
   "metadata": {},
   "outputs": [],
   "source": [
    "class VGG16(nn.Module):\n",
    "    def __init__(self, num_classes, batchnorm):\n",
    "        super(VGG16, self).__init__()\n",
    "        self.layer1 = self._make_layer(3, 64, batchnorm)\n",
    "        self.layer2 = self._make_layer(64, 64, batchnorm, maxpool=True)\n",
    "        self.layer3 = self._make_layer(64, 128, batchnorm)\n",
    "        self.layer4 = self._make_layer(128, 128, batchnorm, maxpool=True)\n",
    "        self.layer5 = self._make_layer(128, 256, batchnorm)\n",
    "        self.layer6 = self._make_layer(256, 256, batchnorm)\n",
    "        self.layer7 = self._make_layer(256, 256, batchnorm, maxpool=True)\n",
    "        self.layer8 = self._make_layer(256, 512, batchnorm)\n",
    "        self.layer9 = self._make_layer(512, 512, batchnorm)\n",
    "        self.layer10 = self._make_layer(512, 512, batchnorm, maxpool=True)\n",
    "        self.layer11 = self._make_layer(512, 512, batchnorm)\n",
    "        self.layer12 = self._make_layer(512, 512, batchnorm)\n",
    "        self.layer13 = self._make_layer(512, 512, batchnorm, maxpool=True)\n",
    "        self.layer14 = nn.Sequential(\n",
    "            nn.Dropout(0.5),\n",
    "            nn.Linear(512, 4096),\n",
    "            nn.ReLU(),\n",
    "        )\n",
    "        self.layer15 = nn.Sequential(\n",
    "            nn.Dropout(0.5),\n",
    "            nn.Linear(4096, 4096),\n",
    "            nn.ReLU(),\n",
    "        )\n",
    "        self.layer16 = nn.Sequential(\n",
    "            nn.Linear(4096, num_classes),\n",
    "        )\n",
    "\n",
    "    def _make_layer(self, in_channels, out_channels, batchnorm, maxpool=False):\n",
    "        layers = [\n",
    "            nn.Conv2d(in_channels, out_channels, kernel_size=3, padding=1, stride=1),\n",
    "        ]\n",
    "        \n",
    "        if batchnorm:\n",
    "            layers.append(nn.BatchNorm2d(out_channels))\n",
    "            \n",
    "        layers.append(nn.ReLU())\n",
    "        \n",
    "        if maxpool:\n",
    "            layers.append(nn.MaxPool2d(kernel_size=2, stride=2))\n",
    "            \n",
    "        return nn.Sequential(*layers)\n",
    "\n",
    "    def forward(self, x):\n",
    "        out = self.layer1(x)\n",
    "        out = self.layer2(out)\n",
    "        out = self.layer3(out)\n",
    "        out = self.layer4(out)\n",
    "        out = self.layer5(out)\n",
    "        out = self.layer6(out)\n",
    "        out = self.layer7(out)\n",
    "        out = self.layer8(out)\n",
    "        out = self.layer9(out)\n",
    "        out = self.layer10(out)\n",
    "        out = self.layer11(out)\n",
    "        out = self.layer12(out)\n",
    "        out = self.layer13(out)\n",
    "        out = out.view(out.size(0), -1)\n",
    "        out = self.layer14(out)\n",
    "        out = self.layer15(out)\n",
    "        out = self.layer16(out)\n",
    "        return out\n",
    "   \n",
    "    def fit(self, loaders, epochs, device, learning_rate):\n",
    "        self.to(device)\n",
    "        criterion = nn.CrossEntropyLoss().to(device)\n",
    "        # adamoptimizer\n",
    "        optimizer = torch.optim.Adam(self.parameters(), lr=learning_rate)\n",
    "        for epoch in tqdm(range(epochs)):\n",
    "            self.train().to(device)\n",
    "\n",
    "            total_loss = 0\n",
    "            correct = 0\n",
    "            total = 0\n",
    "            initial_weights5 = self.layer5[0].weight.data.clone().detach()\n",
    "            initial_weights10 = self.layer10[0].weight.data.clone().detach()\n",
    "\n",
    "            for i, (images, labels) in enumerate(loaders['train']):\n",
    "                self.train().to(device)\n",
    "                optimizer.zero_grad()\n",
    "\n",
    "                images = images.to(device)\n",
    "                labels = labels.to(device)\n",
    "                \n",
    "                outputs = self(images)\n",
    "                loss = criterion(outputs, labels)\n",
    "                \n",
    "                loss.backward()\n",
    "                optimizer.step()\n",
    "\n",
    "                total_loss += loss.item()\n",
    "                _, predicted = torch.max(outputs.data, 1)\n",
    "                total += labels.size(0)\n",
    "                correct += (predicted == labels).sum().item()\n",
    "                if(i % 30 == 0):\n",
    "                    wandb.log({\"Epoch\": epoch + 1, \"Loss\": total_loss / (i + 1), \"Train_Accuracy\": 100 *correct / total})\n",
    "\n",
    "                if(i%100 == 0):\n",
    "                    final_weights5 = self.layer5[0].weight.data.clone().detach()\n",
    "                    final_weights10 = self.layer10[0].weight.data.clone().detach()\n",
    "                    cos5 = self.cosine_similarity(initial_weights5, final_weights5)\n",
    "                    cos10 = self.cosine_similarity(initial_weights10, final_weights10) \n",
    "                    wandb.log({\"Epoch\": epoch + 1, \"Cosine Similarity Layer 5\": cos5})\n",
    "                    wandb.log({\"Epoch\": epoch + 1, \"Cosine Similarity Layer 10\": cos10}) \n",
    "                    l2_norm5 = torch.norm(final_weights5 - initial_weights5, p=2)\n",
    "                    l2_norm10 = torch.norm(final_weights10 - initial_weights10, p=2)\n",
    "                    wandb.log({\"Epoch\": epoch + 1, \"L2 Layer 5\": l2_norm5})\n",
    "                    wandb.log({\"Epoch\": epoch + 1, \"L2 Layer 10\": l2_norm10})   \n",
    "                    \n",
    "            # total_loss = total_loss / len(loaders['train'])\n",
    "            # accuracy = 100 * correct / total\n",
    "            # print('Epoch: {}, Loss: {:.4f}, Accuracy: {:.2f}%'.format(epoch + 1, total_loss, accuracy))\n",
    "            # get final weights for layer 5\n",
    "            # calculate cosine similarity"
   ]
  }
 ],
 "metadata": {
  "kernelspec": {
   "display_name": "smai",
   "language": "python",
   "name": "python3"
  },
  "language_info": {
   "codemirror_mode": {
    "name": "ipython",
    "version": 3
   },
   "file_extension": ".py",
   "mimetype": "text/x-python",
   "name": "python",
   "nbconvert_exporter": "python",
   "pygments_lexer": "ipython3",
   "version": "3.7.16"
  }
 },
 "nbformat": 4,
 "nbformat_minor": 2
}
