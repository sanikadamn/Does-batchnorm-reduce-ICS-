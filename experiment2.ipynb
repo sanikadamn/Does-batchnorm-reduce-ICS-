{
 "cells": [
  {
   "cell_type": "code",
   "execution_count": 1,
   "metadata": {},
   "outputs": [
    {
     "name": "stderr",
     "output_type": "stream",
     "text": [
      "/home2/sanika/miniconda3/envs/smai/lib/python3.7/site-packages/tqdm/auto.py:21: TqdmWarning: IProgress not found. Please update jupyter and ipywidgets. See https://ipywidgets.readthedocs.io/en/stable/user_install.html\n",
      "  from .autonotebook import tqdm as notebook_tqdm\n"
     ]
    }
   ],
   "source": [
    "import torch\n",
    "import torchvision.datasets as datasets\n",
    "import matplotlib.pyplot as plt\n",
    "from collections import Counter\n",
    "import numpy as np\n",
    "from torchvision.transforms import ToTensor\n",
    "from torch.utils.data import DataLoader, TensorDataset, random_split\n",
    "import torch.nn as nn\n",
    "from torch import optim\n",
    "from torch.autograd import Variable\n",
    "import scipy.io as sio\n",
    "from sklearn.model_selection import train_test_split\n",
    "from sklearn.metrics import confusion_matrix\n",
    "from sklearn.metrics import classification_report\n",
    "from torchvision import datasets, transforms\n",
    "from tqdm import tqdm"
   ]
  },
  {
   "cell_type": "code",
   "execution_count": 2,
   "metadata": {},
   "outputs": [],
   "source": [
    "import wandb"
   ]
  },
  {
   "cell_type": "code",
   "execution_count": 3,
   "metadata": {},
   "outputs": [
    {
     "name": "stdout",
     "output_type": "stream",
     "text": [
      "Files already downloaded and verified\n"
     ]
    }
   ],
   "source": [
    "# download the cifar10 dataset\n",
    "trainset = datasets.CIFAR10(root='/scratch/cifar10', train=True, download=True, transform=ToTensor())"
   ]
  },
  {
   "cell_type": "code",
   "execution_count": 4,
   "metadata": {},
   "outputs": [],
   "source": [
    "testset = datasets.CIFAR10(root='/scratch/cifar10', train=False, download=False, transform=ToTensor())"
   ]
  },
  {
   "cell_type": "code",
   "execution_count": 5,
   "metadata": {},
   "outputs": [
    {
     "data": {
      "text/plain": [
       "device(type='cuda')"
      ]
     },
     "execution_count": 5,
     "metadata": {},
     "output_type": "execute_result"
    }
   ],
   "source": [
    "device = torch.device('cuda' if torch.cuda.is_available() else 'cpu')\n",
    "device"
   ]
  },
  {
   "cell_type": "code",
   "execution_count": 6,
   "metadata": {},
   "outputs": [
    {
     "name": "stdout",
     "output_type": "stream",
     "text": [
      "50000\n"
     ]
    }
   ],
   "source": [
    "# print len of train\n",
    "print(len(trainset))"
   ]
  },
  {
   "cell_type": "code",
   "execution_count": 6,
   "metadata": {},
   "outputs": [],
   "source": [
    "loaders = {\n",
    "    'train': DataLoader(trainset, batch_size=256, shuffle=True, num_workers=1),\n",
    "    'test': DataLoader(testset, batch_size=512, shuffle=False, num_workers=1)\n",
    "}"
   ]
  },
  {
   "cell_type": "code",
   "execution_count": 7,
   "metadata": {},
   "outputs": [],
   "source": [
    "class AddNoiseLayer(torch.nn.Module):\n",
    "    # mu, sigma are mean and std of noise\n",
    "    def __init__(self, n_mu, n_sigma, r_mu, r_sigma):\n",
    "        super(AddNoiseLayer, self).__init__()\n",
    "        self.n_mu = n_mu\n",
    "        self.n_sigma = n_sigma\n",
    "        self.r_mu = r_mu\n",
    "        self.r_sigma = r_sigma\n",
    "\n",
    "    def forward(self, x):\n",
    "        mu_t = torch.rand(x.size(1), device=x.device) * 2 * self.n_mu - self.n_mu\n",
    "        sigma_t = torch.rand(x.size(1), device=x.device) * self.n_sigma + 1\n",
    "        noise = torch.randn_like(x) * sigma_t.view(1, -1, 1, 1) + mu_t.view(1, -1, 1, 1)\n",
    "        return x + self.r_sigma * noise\n",
    "\n",
    "class VGG16(nn.Module):\n",
    "    def __init__(self, num_classes, batchnorm, noise):\n",
    "        self.noise = noise\n",
    "        super(VGG16, self).__init__()\n",
    "        self.layer1 = self._make_layer(3, 64, batchnorm)\n",
    "        self.layer2 = self._make_layer(64, 64, batchnorm, maxpool=True)\n",
    "        self.layer3 = self._make_layer(64, 128, batchnorm)\n",
    "        self.layer4 = self._make_layer(128, 128, batchnorm, maxpool=True)\n",
    "        self.layer5 = self._make_layer(128, 256, batchnorm)\n",
    "        self.layer6 = self._make_layer(256, 256, batchnorm)\n",
    "        self.layer7 = self._make_layer(256, 256, batchnorm, maxpool=True)\n",
    "        self.layer8 = self._make_layer(256, 512, batchnorm)\n",
    "        self.layer9 = self._make_layer(512, 512, batchnorm)\n",
    "        self.layer10 = self._make_layer(512, 512, batchnorm, maxpool=True)\n",
    "        self.layer11 = self._make_layer(512, 512, batchnorm)\n",
    "        self.layer12 = self._make_layer(512, 512, batchnorm)\n",
    "        self.layer13 = self._make_layer(512, 512, batchnorm, maxpool=True)\n",
    "        self.layer14 = nn.Sequential(\n",
    "            nn.Dropout(0.5),\n",
    "            nn.Linear(512, 4096),\n",
    "            nn.ReLU(),\n",
    "        )\n",
    "        self.layer15 = nn.Sequential(\n",
    "            nn.Dropout(0.5),\n",
    "            nn.Linear(4096, 4096),\n",
    "            nn.ReLU(),\n",
    "        )\n",
    "        self.layer16 = nn.Sequential(\n",
    "            nn.Linear(4096, num_classes),\n",
    "        )\n",
    "\n",
    "    def _make_layer(self, in_channels, out_channels, batchnorm, maxpool=False):\n",
    "        layers = [\n",
    "            nn.Conv2d(in_channels, out_channels, kernel_size=3, padding=1, stride=1),\n",
    "        ]\n",
    "        \n",
    "        if batchnorm:\n",
    "            layers.append(nn.BatchNorm2d(out_channels))\n",
    "            \n",
    "            if self.noise:\n",
    "                # used the same noise parameters as in the paper\n",
    "                layers.append(AddNoiseLayer(0.5, 1.25, 0.1, 0.1))\n",
    "            \n",
    "        layers.append(nn.ReLU())\n",
    "        \n",
    "        if maxpool:\n",
    "            layers.append(nn.MaxPool2d(kernel_size=2, stride=2))\n",
    "            \n",
    "        return nn.Sequential(*layers)\n",
    "\n",
    "    def cosine_similarity(self, x, y):\n",
    "        cos = nn.CosineSimilarity(dim=-1, eps=1e-6)\n",
    "        return cos(x.view(-1), y.view(-1))\n",
    "    \n",
    "    def compute_gradient_difference(initial_grad, final_grad):\n",
    "        return torch.norm(final_grad - initial_grad, p=2)\n",
    "\n",
    "    def forward(self, x):\n",
    "        out = self.layer1(x)\n",
    "        out = self.layer2(out)\n",
    "        out = self.layer3(out)\n",
    "        out = self.layer4(out)\n",
    "        out = self.layer5(out)\n",
    "        out = self.layer6(out)\n",
    "        out = self.layer7(out)\n",
    "        out = self.layer8(out)\n",
    "        out = self.layer9(out)\n",
    "        out = self.layer10(out)\n",
    "        out = self.layer11(out)\n",
    "        out = self.layer12(out)\n",
    "        out = self.layer13(out)\n",
    "        out = out.view(out.size(0), -1)\n",
    "        out = self.layer14(out)\n",
    "        out = self.layer15(out)\n",
    "        out = self.layer16(out)\n",
    "        return out\n",
    "   \n",
    "    def fit(self, loaders, epochs, device, learning_rate):\n",
    "        self.to(device)\n",
    "        criterion = nn.CrossEntropyLoss().to(device)\n",
    "        # adamoptimizer\n",
    "        optimizer = torch.optim.Adam(self.parameters(), lr=learning_rate)\n",
    "        for epoch in tqdm(range(epochs)):\n",
    "            self.train().to(device)\n",
    "\n",
    "            total_loss = 0\n",
    "            correct = 0\n",
    "            total = 0\n",
    "            initial_weights5 = self.layer5[0].weight.data.clone().detach()\n",
    "            initial_weights10 = self.layer10[0].weight.data.clone().detach()\n",
    "\n",
    "            for i, (images, labels) in enumerate(loaders['train']):\n",
    "                self.train().to(device)\n",
    "                optimizer.zero_grad()\n",
    "\n",
    "                images = images.to(device)\n",
    "                labels = labels.to(device)\n",
    "                \n",
    "                outputs = self(images)\n",
    "                loss = criterion(outputs, labels)\n",
    "                \n",
    "                loss.backward()\n",
    "                optimizer.step()\n",
    "\n",
    "                total_loss += loss.item()\n",
    "                _, predicted = torch.max(outputs.data, 1)\n",
    "                total += labels.size(0)\n",
    "                correct += (predicted == labels).sum().item()\n",
    "                if(i % 30 == 0):\n",
    "                    wandb.log({\"Epoch\": epoch + 1, \"Loss\": total_loss / (i + 1), \"Train_Accuracy\": 100 *correct / total})\n",
    "            final_weights5 = self.layer5[0].weight.data.clone().detach()\n",
    "            final_weights10 = self.layer10[0].weight.data.clone().detach()\n",
    "            cos5 = nn.functional.cosine_similarity(initial_weights5.view(-1), final_weights5.view(-1), dim=0)\n",
    "            cos10 = nn.functional.cosine_similarity(initial_weights10.view(-1), final_weights10.view(-1), dim=0)\n",
    "            wandb.log({\"Epoch\": epoch + 1, \"Cosine Similarity Layer 5\": cos5})\n",
    "            wandb.log({\"Epoch\": epoch + 1, \"Cosine Similarity Layer 10\": cos10})\n",
    "            l25 = nn.functional.pairwise_distance(initial_weights5.view(-1), final_weights5.view(-1), p=2)\n",
    "            l210 = nn.functional.pairwise_distance(initial_weights10.view(-1), final_weights10.view(-1), p=2)\n",
    "            wandb.log({\"Epoch\": epoch + 1, \"L2 Distance Layer 5\": l25})\n",
    "            wandb.log({\"Epoch\": epoch + 1, \"L2 Distance Layer 10\": l210})"
   ]
  },
  {
   "cell_type": "code",
   "execution_count": 48,
   "metadata": {},
   "outputs": [],
   "source": [
    "sweep_config = {\n",
    "    'method': 'grid',\n",
    "    'metric': {\n",
    "        'name': 'accuracy',\n",
    "        'goal': 'maximize'\n",
    "    },\n",
    "    'parameters': {\n",
    "        'noise': {\n",
    "            'values': [True, False]\n",
    "        },\n",
    "        'batchnorm': {\n",
    "            'values': [True, False]\n",
    "        },\n",
    "    }\n",
    "}"
   ]
  },
  {
   "cell_type": "code",
   "execution_count": 49,
   "metadata": {},
   "outputs": [
    {
     "name": "stdout",
     "output_type": "stream",
     "text": [
      "Create sweep with ID: huszyrii\n",
      "Sweep URL: https://wandb.ai/project-ai-scream/adding_noise/sweeps/huszyrii\n"
     ]
    }
   ],
   "source": [
    "sweep_id = wandb.sweep(sweep_config, project='adding_noise')"
   ]
  },
  {
   "cell_type": "code",
   "execution_count": 50,
   "metadata": {},
   "outputs": [],
   "source": [
    "def wandb_logging():\n",
    "    with wandb.init(config=sweep_config):\n",
    "        config = wandb.config\n",
    "        if config.noise and config.batchnorm:\n",
    "            name = 'batchnorm, noise'\n",
    "        elif config.noise:\n",
    "            name = 'no batchnorm, noise'\n",
    "        elif config.batchnorm:\n",
    "            name = 'batchnorm, no noise'\n",
    "        else:\n",
    "            name = 'no batchnorm, no noise'\n",
    "        wandb.run.name = name\n",
    "        model = VGG16(10, config.batchnorm, config.noise)\n",
    "        model.fit(loaders, 50, device, 0.0005)"
   ]
  },
  {
   "cell_type": "code",
   "execution_count": 51,
   "metadata": {},
   "outputs": [
    {
     "name": "stderr",
     "output_type": "stream",
     "text": [
      "\u001b[34m\u001b[1mwandb\u001b[0m: Agent Starting Run: hkzf58e3 with config:\n",
      "\u001b[34m\u001b[1mwandb\u001b[0m: \tbatchnorm: True\n",
      "\u001b[34m\u001b[1mwandb\u001b[0m: \tnoise: True\n"
     ]
    },
    {
     "data": {
      "text/html": [
       "Tracking run with wandb version 0.16.0"
      ],
      "text/plain": [
       "<IPython.core.display.HTML object>"
      ]
     },
     "metadata": {},
     "output_type": "display_data"
    },
    {
     "data": {
      "text/html": [
       "Run data is saved locally in <code>/home2/sanika/project-ai-scream/wandb/run-20231128_192649-hkzf58e3</code>"
      ],
      "text/plain": [
       "<IPython.core.display.HTML object>"
      ]
     },
     "metadata": {},
     "output_type": "display_data"
    },
    {
     "data": {
      "text/html": [
       "Syncing run <strong><a href='https://wandb.ai/project-ai-scream/adding_noise/runs/hkzf58e3' target=\"_blank\">wandering-sweep-1</a></strong> to <a href='https://wandb.ai/project-ai-scream/adding_noise' target=\"_blank\">Weights & Biases</a> (<a href='https://wandb.me/run' target=\"_blank\">docs</a>)<br/>Sweep page: <a href='https://wandb.ai/project-ai-scream/adding_noise/sweeps/huszyrii' target=\"_blank\">https://wandb.ai/project-ai-scream/adding_noise/sweeps/huszyrii</a>"
      ],
      "text/plain": [
       "<IPython.core.display.HTML object>"
      ]
     },
     "metadata": {},
     "output_type": "display_data"
    },
    {
     "data": {
      "text/html": [
       " View project at <a href='https://wandb.ai/project-ai-scream/adding_noise' target=\"_blank\">https://wandb.ai/project-ai-scream/adding_noise</a>"
      ],
      "text/plain": [
       "<IPython.core.display.HTML object>"
      ]
     },
     "metadata": {},
     "output_type": "display_data"
    },
    {
     "data": {
      "text/html": [
       " View sweep at <a href='https://wandb.ai/project-ai-scream/adding_noise/sweeps/huszyrii' target=\"_blank\">https://wandb.ai/project-ai-scream/adding_noise/sweeps/huszyrii</a>"
      ],
      "text/plain": [
       "<IPython.core.display.HTML object>"
      ]
     },
     "metadata": {},
     "output_type": "display_data"
    },
    {
     "data": {
      "text/html": [
       " View run at <a href='https://wandb.ai/project-ai-scream/adding_noise/runs/hkzf58e3' target=\"_blank\">https://wandb.ai/project-ai-scream/adding_noise/runs/hkzf58e3</a>"
      ],
      "text/plain": [
       "<IPython.core.display.HTML object>"
      ]
     },
     "metadata": {},
     "output_type": "display_data"
    },
    {
     "name": "stderr",
     "output_type": "stream",
     "text": [
      "100%|██████████| 50/50 [10:39<00:00, 12.78s/it]\n"
     ]
    },
    {
     "data": {
      "text/html": [
       "<style>\n",
       "    table.wandb td:nth-child(1) { padding: 0 10px; text-align: left ; width: auto;} td:nth-child(2) {text-align: left ; width: 100%}\n",
       "    .wandb-row { display: flex; flex-direction: row; flex-wrap: wrap; justify-content: flex-start; width: 100% }\n",
       "    .wandb-col { display: flex; flex-direction: column; flex-basis: 100%; flex: 1; padding: 10px; }\n",
       "    </style>\n",
       "<div class=\"wandb-row\"><div class=\"wandb-col\"><h3>Run history:</h3><br/><table class=\"wandb\"><tr><td>Epoch</td><td>▁▁▁▁▂▂▂▂▂▃▃▃▃▃▃▄▄▄▄▄▅▅▅▅▅▅▆▆▆▆▆▇▇▇▇▇▇███</td></tr><tr><td>Loss</td><td>█▆▅▄▃▃▂▂▂▂▁▂▁▁▁▁▁▁▁▁▁▁▁▁▁▁▁▁▁▁▁▁▁▁▁▁▁▁▁▁</td></tr><tr><td>Train_Accuracy</td><td>▁▃▄▅▆▇▇▇▇▇██████████████████████████████</td></tr></table><br/></div><div class=\"wandb-col\"><h3>Run summary:</h3><br/><table class=\"wandb\"><tr><td>Epoch</td><td>50</td></tr><tr><td>Loss</td><td>0.03767</td></tr><tr><td>Train_Accuracy</td><td>99.01804</td></tr></table><br/></div></div>"
      ],
      "text/plain": [
       "<IPython.core.display.HTML object>"
      ]
     },
     "metadata": {},
     "output_type": "display_data"
    },
    {
     "data": {
      "text/html": [
       " View run <strong style=\"color:#cdcd00\">wandering-sweep-1</strong> at: <a href='https://wandb.ai/project-ai-scream/adding_noise/runs/hkzf58e3' target=\"_blank\">https://wandb.ai/project-ai-scream/adding_noise/runs/hkzf58e3</a><br/>Synced 6 W&B file(s), 0 media file(s), 0 artifact file(s) and 0 other file(s)"
      ],
      "text/plain": [
       "<IPython.core.display.HTML object>"
      ]
     },
     "metadata": {},
     "output_type": "display_data"
    },
    {
     "data": {
      "text/html": [
       "Find logs at: <code>./wandb/run-20231128_192649-hkzf58e3/logs</code>"
      ],
      "text/plain": [
       "<IPython.core.display.HTML object>"
      ]
     },
     "metadata": {},
     "output_type": "display_data"
    },
    {
     "name": "stderr",
     "output_type": "stream",
     "text": [
      "\u001b[34m\u001b[1mwandb\u001b[0m: Agent Starting Run: jctekcfo with config:\n",
      "\u001b[34m\u001b[1mwandb\u001b[0m: \tbatchnorm: True\n",
      "\u001b[34m\u001b[1mwandb\u001b[0m: \tnoise: False\n"
     ]
    },
    {
     "data": {
      "text/html": [
       "Tracking run with wandb version 0.16.0"
      ],
      "text/plain": [
       "<IPython.core.display.HTML object>"
      ]
     },
     "metadata": {},
     "output_type": "display_data"
    },
    {
     "data": {
      "text/html": [
       "Run data is saved locally in <code>/home2/sanika/project-ai-scream/wandb/run-20231128_193748-jctekcfo</code>"
      ],
      "text/plain": [
       "<IPython.core.display.HTML object>"
      ]
     },
     "metadata": {},
     "output_type": "display_data"
    },
    {
     "data": {
      "text/html": [
       "Syncing run <strong><a href='https://wandb.ai/project-ai-scream/adding_noise/runs/jctekcfo' target=\"_blank\">leafy-sweep-2</a></strong> to <a href='https://wandb.ai/project-ai-scream/adding_noise' target=\"_blank\">Weights & Biases</a> (<a href='https://wandb.me/run' target=\"_blank\">docs</a>)<br/>Sweep page: <a href='https://wandb.ai/project-ai-scream/adding_noise/sweeps/huszyrii' target=\"_blank\">https://wandb.ai/project-ai-scream/adding_noise/sweeps/huszyrii</a>"
      ],
      "text/plain": [
       "<IPython.core.display.HTML object>"
      ]
     },
     "metadata": {},
     "output_type": "display_data"
    },
    {
     "data": {
      "text/html": [
       " View project at <a href='https://wandb.ai/project-ai-scream/adding_noise' target=\"_blank\">https://wandb.ai/project-ai-scream/adding_noise</a>"
      ],
      "text/plain": [
       "<IPython.core.display.HTML object>"
      ]
     },
     "metadata": {},
     "output_type": "display_data"
    },
    {
     "data": {
      "text/html": [
       " View sweep at <a href='https://wandb.ai/project-ai-scream/adding_noise/sweeps/huszyrii' target=\"_blank\">https://wandb.ai/project-ai-scream/adding_noise/sweeps/huszyrii</a>"
      ],
      "text/plain": [
       "<IPython.core.display.HTML object>"
      ]
     },
     "metadata": {},
     "output_type": "display_data"
    },
    {
     "data": {
      "text/html": [
       " View run at <a href='https://wandb.ai/project-ai-scream/adding_noise/runs/jctekcfo' target=\"_blank\">https://wandb.ai/project-ai-scream/adding_noise/runs/jctekcfo</a>"
      ],
      "text/plain": [
       "<IPython.core.display.HTML object>"
      ]
     },
     "metadata": {},
     "output_type": "display_data"
    },
    {
     "name": "stderr",
     "output_type": "stream",
     "text": [
      "100%|██████████| 50/50 [09:45<00:00, 11.70s/it]\n"
     ]
    },
    {
     "data": {
      "text/html": [
       "<style>\n",
       "    table.wandb td:nth-child(1) { padding: 0 10px; text-align: left ; width: auto;} td:nth-child(2) {text-align: left ; width: 100%}\n",
       "    .wandb-row { display: flex; flex-direction: row; flex-wrap: wrap; justify-content: flex-start; width: 100% }\n",
       "    .wandb-col { display: flex; flex-direction: column; flex-basis: 100%; flex: 1; padding: 10px; }\n",
       "    </style>\n",
       "<div class=\"wandb-row\"><div class=\"wandb-col\"><h3>Run history:</h3><br/><table class=\"wandb\"><tr><td>Epoch</td><td>▁▁▁▁▂▂▂▂▂▃▃▃▃▃▃▄▄▄▄▄▅▅▅▅▅▅▆▆▆▆▆▇▇▇▇▇▇███</td></tr><tr><td>Loss</td><td>█▆▅▄▃▃▂▂▂▂▁▁▁▁▁▁▁▁▁▁▁▁▁▁▁▁▁▁▁▁▁▁▁▁▁▁▁▁▁▁</td></tr><tr><td>Train_Accuracy</td><td>▁▃▄▅▆▇▇▇▇▇██████████████████████████████</td></tr></table><br/></div><div class=\"wandb-col\"><h3>Run summary:</h3><br/><table class=\"wandb\"><tr><td>Epoch</td><td>50</td></tr><tr><td>Loss</td><td>0.02352</td></tr><tr><td>Train_Accuracy</td><td>99.30508</td></tr></table><br/></div></div>"
      ],
      "text/plain": [
       "<IPython.core.display.HTML object>"
      ]
     },
     "metadata": {},
     "output_type": "display_data"
    },
    {
     "data": {
      "text/html": [
       " View run <strong style=\"color:#cdcd00\">leafy-sweep-2</strong> at: <a href='https://wandb.ai/project-ai-scream/adding_noise/runs/jctekcfo' target=\"_blank\">https://wandb.ai/project-ai-scream/adding_noise/runs/jctekcfo</a><br/>Synced 6 W&B file(s), 0 media file(s), 0 artifact file(s) and 0 other file(s)"
      ],
      "text/plain": [
       "<IPython.core.display.HTML object>"
      ]
     },
     "metadata": {},
     "output_type": "display_data"
    },
    {
     "data": {
      "text/html": [
       "Find logs at: <code>./wandb/run-20231128_193748-jctekcfo/logs</code>"
      ],
      "text/plain": [
       "<IPython.core.display.HTML object>"
      ]
     },
     "metadata": {},
     "output_type": "display_data"
    },
    {
     "name": "stderr",
     "output_type": "stream",
     "text": [
      "\u001b[34m\u001b[1mwandb\u001b[0m: Agent Starting Run: 733mg74h with config:\n",
      "\u001b[34m\u001b[1mwandb\u001b[0m: \tbatchnorm: False\n",
      "\u001b[34m\u001b[1mwandb\u001b[0m: \tnoise: True\n"
     ]
    },
    {
     "data": {
      "text/html": [
       "Tracking run with wandb version 0.16.0"
      ],
      "text/plain": [
       "<IPython.core.display.HTML object>"
      ]
     },
     "metadata": {},
     "output_type": "display_data"
    },
    {
     "data": {
      "text/html": [
       "Run data is saved locally in <code>/home2/sanika/project-ai-scream/wandb/run-20231128_194752-733mg74h</code>"
      ],
      "text/plain": [
       "<IPython.core.display.HTML object>"
      ]
     },
     "metadata": {},
     "output_type": "display_data"
    },
    {
     "data": {
      "text/html": [
       "Syncing run <strong><a href='https://wandb.ai/project-ai-scream/adding_noise/runs/733mg74h' target=\"_blank\">vivid-sweep-3</a></strong> to <a href='https://wandb.ai/project-ai-scream/adding_noise' target=\"_blank\">Weights & Biases</a> (<a href='https://wandb.me/run' target=\"_blank\">docs</a>)<br/>Sweep page: <a href='https://wandb.ai/project-ai-scream/adding_noise/sweeps/huszyrii' target=\"_blank\">https://wandb.ai/project-ai-scream/adding_noise/sweeps/huszyrii</a>"
      ],
      "text/plain": [
       "<IPython.core.display.HTML object>"
      ]
     },
     "metadata": {},
     "output_type": "display_data"
    },
    {
     "data": {
      "text/html": [
       " View project at <a href='https://wandb.ai/project-ai-scream/adding_noise' target=\"_blank\">https://wandb.ai/project-ai-scream/adding_noise</a>"
      ],
      "text/plain": [
       "<IPython.core.display.HTML object>"
      ]
     },
     "metadata": {},
     "output_type": "display_data"
    },
    {
     "data": {
      "text/html": [
       " View sweep at <a href='https://wandb.ai/project-ai-scream/adding_noise/sweeps/huszyrii' target=\"_blank\">https://wandb.ai/project-ai-scream/adding_noise/sweeps/huszyrii</a>"
      ],
      "text/plain": [
       "<IPython.core.display.HTML object>"
      ]
     },
     "metadata": {},
     "output_type": "display_data"
    },
    {
     "data": {
      "text/html": [
       " View run at <a href='https://wandb.ai/project-ai-scream/adding_noise/runs/733mg74h' target=\"_blank\">https://wandb.ai/project-ai-scream/adding_noise/runs/733mg74h</a>"
      ],
      "text/plain": [
       "<IPython.core.display.HTML object>"
      ]
     },
     "metadata": {},
     "output_type": "display_data"
    },
    {
     "name": "stderr",
     "output_type": "stream",
     "text": [
      "100%|██████████| 50/50 [08:39<00:00, 10.39s/it]\n"
     ]
    },
    {
     "data": {
      "text/html": [
       "<style>\n",
       "    table.wandb td:nth-child(1) { padding: 0 10px; text-align: left ; width: auto;} td:nth-child(2) {text-align: left ; width: 100%}\n",
       "    .wandb-row { display: flex; flex-direction: row; flex-wrap: wrap; justify-content: flex-start; width: 100% }\n",
       "    .wandb-col { display: flex; flex-direction: column; flex-basis: 100%; flex: 1; padding: 10px; }\n",
       "    </style>\n",
       "<div class=\"wandb-row\"><div class=\"wandb-col\"><h3>Run history:</h3><br/><table class=\"wandb\"><tr><td>Epoch</td><td>▁▁▁▁▂▂▂▂▂▃▃▃▃▃▃▄▄▄▄▄▅▅▅▅▅▅▆▆▆▆▆▇▇▇▇▇▇███</td></tr><tr><td>Loss</td><td>█▄▄▃▅▃▃▄▃▃▂▃▃▃▃▃▃▃▃▃▃▃▃▃▃▃▁▃▃▃▃▃▃▃▃▃▃▃▃▃</td></tr><tr><td>Train_Accuracy</td><td>▄▄▄▄▁▄▄▃▄▄█▄▄▄▄▃▃▃▄▄▄▄▄▅▃▄█▄▄▄▄▃▄▄▄▄▄▄▃▄</td></tr></table><br/></div><div class=\"wandb-col\"><h3>Run summary:</h3><br/><table class=\"wandb\"><tr><td>Epoch</td><td>50</td></tr><tr><td>Loss</td><td>2.30262</td></tr><tr><td>Train_Accuracy</td><td>9.75052</td></tr></table><br/></div></div>"
      ],
      "text/plain": [
       "<IPython.core.display.HTML object>"
      ]
     },
     "metadata": {},
     "output_type": "display_data"
    },
    {
     "data": {
      "text/html": [
       " View run <strong style=\"color:#cdcd00\">vivid-sweep-3</strong> at: <a href='https://wandb.ai/project-ai-scream/adding_noise/runs/733mg74h' target=\"_blank\">https://wandb.ai/project-ai-scream/adding_noise/runs/733mg74h</a><br/>Synced 6 W&B file(s), 0 media file(s), 0 artifact file(s) and 0 other file(s)"
      ],
      "text/plain": [
       "<IPython.core.display.HTML object>"
      ]
     },
     "metadata": {},
     "output_type": "display_data"
    },
    {
     "data": {
      "text/html": [
       "Find logs at: <code>./wandb/run-20231128_194752-733mg74h/logs</code>"
      ],
      "text/plain": [
       "<IPython.core.display.HTML object>"
      ]
     },
     "metadata": {},
     "output_type": "display_data"
    },
    {
     "name": "stderr",
     "output_type": "stream",
     "text": [
      "\u001b[34m\u001b[1mwandb\u001b[0m: Agent Starting Run: ne19zf4b with config:\n",
      "\u001b[34m\u001b[1mwandb\u001b[0m: \tbatchnorm: False\n",
      "\u001b[34m\u001b[1mwandb\u001b[0m: \tnoise: False\n"
     ]
    },
    {
     "data": {
      "text/html": [
       "Tracking run with wandb version 0.16.0"
      ],
      "text/plain": [
       "<IPython.core.display.HTML object>"
      ]
     },
     "metadata": {},
     "output_type": "display_data"
    },
    {
     "data": {
      "text/html": [
       "Run data is saved locally in <code>/home2/sanika/project-ai-scream/wandb/run-20231128_195654-ne19zf4b</code>"
      ],
      "text/plain": [
       "<IPython.core.display.HTML object>"
      ]
     },
     "metadata": {},
     "output_type": "display_data"
    },
    {
     "data": {
      "text/html": [
       "Syncing run <strong><a href='https://wandb.ai/project-ai-scream/adding_noise/runs/ne19zf4b' target=\"_blank\">ancient-sweep-4</a></strong> to <a href='https://wandb.ai/project-ai-scream/adding_noise' target=\"_blank\">Weights & Biases</a> (<a href='https://wandb.me/run' target=\"_blank\">docs</a>)<br/>Sweep page: <a href='https://wandb.ai/project-ai-scream/adding_noise/sweeps/huszyrii' target=\"_blank\">https://wandb.ai/project-ai-scream/adding_noise/sweeps/huszyrii</a>"
      ],
      "text/plain": [
       "<IPython.core.display.HTML object>"
      ]
     },
     "metadata": {},
     "output_type": "display_data"
    },
    {
     "data": {
      "text/html": [
       " View project at <a href='https://wandb.ai/project-ai-scream/adding_noise' target=\"_blank\">https://wandb.ai/project-ai-scream/adding_noise</a>"
      ],
      "text/plain": [
       "<IPython.core.display.HTML object>"
      ]
     },
     "metadata": {},
     "output_type": "display_data"
    },
    {
     "data": {
      "text/html": [
       " View sweep at <a href='https://wandb.ai/project-ai-scream/adding_noise/sweeps/huszyrii' target=\"_blank\">https://wandb.ai/project-ai-scream/adding_noise/sweeps/huszyrii</a>"
      ],
      "text/plain": [
       "<IPython.core.display.HTML object>"
      ]
     },
     "metadata": {},
     "output_type": "display_data"
    },
    {
     "data": {
      "text/html": [
       " View run at <a href='https://wandb.ai/project-ai-scream/adding_noise/runs/ne19zf4b' target=\"_blank\">https://wandb.ai/project-ai-scream/adding_noise/runs/ne19zf4b</a>"
      ],
      "text/plain": [
       "<IPython.core.display.HTML object>"
      ]
     },
     "metadata": {},
     "output_type": "display_data"
    },
    {
     "name": "stderr",
     "output_type": "stream",
     "text": [
      "100%|██████████| 50/50 [08:49<00:00, 10.58s/it]\n"
     ]
    },
    {
     "data": {
      "text/html": [
       "<style>\n",
       "    table.wandb td:nth-child(1) { padding: 0 10px; text-align: left ; width: auto;} td:nth-child(2) {text-align: left ; width: 100%}\n",
       "    .wandb-row { display: flex; flex-direction: row; flex-wrap: wrap; justify-content: flex-start; width: 100% }\n",
       "    .wandb-col { display: flex; flex-direction: column; flex-basis: 100%; flex: 1; padding: 10px; }\n",
       "    </style>\n",
       "<div class=\"wandb-row\"><div class=\"wandb-col\"><h3>Run history:</h3><br/><table class=\"wandb\"><tr><td>Epoch</td><td>▁▁▁▁▂▂▂▂▂▃▃▃▃▃▃▄▄▄▄▄▅▅▅▅▅▅▆▆▆▆▆▇▇▇▇▇▇███</td></tr><tr><td>Loss</td><td>█▇▆▆▅▄▄▃▃▃▂▂▂▂▂▁▁▁▁▁▁▁▁▁▁▁▁▁▁▁▁▁▁▁▁▁▁▁▁▁</td></tr><tr><td>Train_Accuracy</td><td>▁▂▃▄▄▅▆▆▆▇▇▇▇▇▇█████████████████████████</td></tr></table><br/></div><div class=\"wandb-col\"><h3>Run summary:</h3><br/><table class=\"wandb\"><tr><td>Epoch</td><td>50</td></tr><tr><td>Loss</td><td>0.06392</td></tr><tr><td>Train_Accuracy</td><td>98.15694</td></tr></table><br/></div></div>"
      ],
      "text/plain": [
       "<IPython.core.display.HTML object>"
      ]
     },
     "metadata": {},
     "output_type": "display_data"
    },
    {
     "data": {
      "text/html": [
       " View run <strong style=\"color:#cdcd00\">ancient-sweep-4</strong> at: <a href='https://wandb.ai/project-ai-scream/adding_noise/runs/ne19zf4b' target=\"_blank\">https://wandb.ai/project-ai-scream/adding_noise/runs/ne19zf4b</a><br/>Synced 6 W&B file(s), 0 media file(s), 0 artifact file(s) and 0 other file(s)"
      ],
      "text/plain": [
       "<IPython.core.display.HTML object>"
      ]
     },
     "metadata": {},
     "output_type": "display_data"
    },
    {
     "data": {
      "text/html": [
       "Find logs at: <code>./wandb/run-20231128_195654-ne19zf4b/logs</code>"
      ],
      "text/plain": [
       "<IPython.core.display.HTML object>"
      ]
     },
     "metadata": {},
     "output_type": "display_data"
    },
    {
     "name": "stderr",
     "output_type": "stream",
     "text": [
      "\u001b[34m\u001b[1mwandb\u001b[0m: Sweep Agent: Waiting for job.\n",
      "\u001b[34m\u001b[1mwandb\u001b[0m: Sweep Agent: Exiting.\n"
     ]
    }
   ],
   "source": [
    "wandb.agent(sweep_id, wandb_logging)"
   ]
  },
  {
   "cell_type": "code",
   "execution_count": 8,
   "metadata": {},
   "outputs": [],
   "source": [
    "sweep_config = {\n",
    "    'method': 'grid',\n",
    "    'metric': {\n",
    "        'name': 'accuracy',\n",
    "        'goal': 'maximize'\n",
    "    },\n",
    "    'parameters': {\n",
    "        'batchnorm': {\n",
    "            'values': [False, True]\n",
    "        },\n",
    "    }\n",
    "}"
   ]
  },
  {
   "cell_type": "code",
   "execution_count": 12,
   "metadata": {},
   "outputs": [
    {
     "name": "stdout",
     "output_type": "stream",
     "text": [
      "Create sweep with ID: tgwfx72h\n",
      "Sweep URL: https://wandb.ai/project-ai-scream/cos-angle/sweeps/tgwfx72h\n"
     ]
    }
   ],
   "source": [
    "sweep_id = wandb.sweep(sweep_config, project='cos-angle')"
   ]
  },
  {
   "cell_type": "code",
   "execution_count": 13,
   "metadata": {},
   "outputs": [],
   "source": [
    "def wandb_logging():\n",
    "    with wandb.init(config=sweep_config):\n",
    "        config = wandb.config\n",
    "        if config.batchnorm:\n",
    "            name = 'standard+batchnorm'\n",
    "        else:\n",
    "            name = 'standard'\n",
    "        wandb.run.name = name\n",
    "        model = VGG16(10, config.batchnorm, False)\n",
    "        model.fit(loaders, 100, device, 0.0001)"
   ]
  },
  {
   "cell_type": "code",
   "execution_count": 14,
   "metadata": {},
   "outputs": [
    {
     "name": "stderr",
     "output_type": "stream",
     "text": [
      "\u001b[34m\u001b[1mwandb\u001b[0m: Agent Starting Run: 81hn7bee with config:\n",
      "\u001b[34m\u001b[1mwandb\u001b[0m: \tbatchnorm: False\n",
      "Failed to detect the name of this notebook, you can set it manually with the WANDB_NOTEBOOK_NAME environment variable to enable code saving.\n"
     ]
    },
    {
     "data": {
      "text/html": [
       "Tracking run with wandb version 0.16.0"
      ],
      "text/plain": [
       "<IPython.core.display.HTML object>"
      ]
     },
     "metadata": {},
     "output_type": "display_data"
    },
    {
     "data": {
      "text/html": [
       "Run data is saved locally in <code>/home2/sanika/project-ai-scream/wandb/run-20231129_155012-81hn7bee</code>"
      ],
      "text/plain": [
       "<IPython.core.display.HTML object>"
      ]
     },
     "metadata": {},
     "output_type": "display_data"
    },
    {
     "data": {
      "text/html": [
       "Syncing run <strong><a href='https://wandb.ai/project-ai-scream/cos-angle/runs/81hn7bee' target=\"_blank\">honest-sweep-1</a></strong> to <a href='https://wandb.ai/project-ai-scream/cos-angle' target=\"_blank\">Weights & Biases</a> (<a href='https://wandb.me/run' target=\"_blank\">docs</a>)<br/>Sweep page: <a href='https://wandb.ai/project-ai-scream/cos-angle/sweeps/tgwfx72h' target=\"_blank\">https://wandb.ai/project-ai-scream/cos-angle/sweeps/tgwfx72h</a>"
      ],
      "text/plain": [
       "<IPython.core.display.HTML object>"
      ]
     },
     "metadata": {},
     "output_type": "display_data"
    },
    {
     "data": {
      "text/html": [
       " View project at <a href='https://wandb.ai/project-ai-scream/cos-angle' target=\"_blank\">https://wandb.ai/project-ai-scream/cos-angle</a>"
      ],
      "text/plain": [
       "<IPython.core.display.HTML object>"
      ]
     },
     "metadata": {},
     "output_type": "display_data"
    },
    {
     "data": {
      "text/html": [
       " View sweep at <a href='https://wandb.ai/project-ai-scream/cos-angle/sweeps/tgwfx72h' target=\"_blank\">https://wandb.ai/project-ai-scream/cos-angle/sweeps/tgwfx72h</a>"
      ],
      "text/plain": [
       "<IPython.core.display.HTML object>"
      ]
     },
     "metadata": {},
     "output_type": "display_data"
    },
    {
     "data": {
      "text/html": [
       " View run at <a href='https://wandb.ai/project-ai-scream/cos-angle/runs/81hn7bee' target=\"_blank\">https://wandb.ai/project-ai-scream/cos-angle/runs/81hn7bee</a>"
      ],
      "text/plain": [
       "<IPython.core.display.HTML object>"
      ]
     },
     "metadata": {},
     "output_type": "display_data"
    },
    {
     "name": "stderr",
     "output_type": "stream",
     "text": [
      "100%|██████████| 100/100 [17:45<00:00, 10.66s/it]\n"
     ]
    },
    {
     "data": {
      "text/html": [
       "<style>\n",
       "    table.wandb td:nth-child(1) { padding: 0 10px; text-align: left ; width: auto;} td:nth-child(2) {text-align: left ; width: 100%}\n",
       "    .wandb-row { display: flex; flex-direction: row; flex-wrap: wrap; justify-content: flex-start; width: 100% }\n",
       "    .wandb-col { display: flex; flex-direction: column; flex-basis: 100%; flex: 1; padding: 10px; }\n",
       "    </style>\n",
       "<div class=\"wandb-row\"><div class=\"wandb-col\"><h3>Run history:</h3><br/><table class=\"wandb\"><tr><td>Cosine Similarity Layer 10</td><td>█▆▁▅▆▇▇▇▇███████████████████████████████</td></tr><tr><td>Cosine Similarity Layer 5</td><td>█▁▂▄▆▆▇▇▇▇▇▇▇▇▇▇▇▇▇▇▇▇▇▇▇▇▇▆▇▇▇▇▇▇▇▇▇▆▇▇</td></tr><tr><td>Epoch</td><td>▁▁▁▂▂▂▂▂▂▃▃▃▃▃▄▄▄▄▄▄▅▅▅▅▅▅▆▆▆▆▆▇▇▇▇▇▇███</td></tr><tr><td>L2 Distance Layer 10</td><td>▁▃█▅▄▃▃▃▃▃▃▂▃▃▂▂▃▂▂▂▂▃▃▂▃▃▂▃▃▃▃▃▃▃▃▃▃▃▃▃</td></tr><tr><td>L2 Distance Layer 5</td><td>▁██▆▅▅▄▄▄▄▄▄▄▄▄▄▄▄▄▄▄▄▄▄▅▄▄▅▄▅▅▄▅▄▄▄▅▅▅▅</td></tr><tr><td>Loss</td><td>█▆▅▅▄▃▃▃▂▂▂▂▂▁▁▁▁▁▁▁▁▁▁▁▁▁▁▁▁▁▁▁▁▁▁▁▁▁▁▁</td></tr><tr><td>Train_Accuracy</td><td>▁▃▄▅▅▆▆▆▇▇▇▇▇███████████████████████████</td></tr></table><br/></div><div class=\"wandb-col\"><h3>Run summary:</h3><br/><table class=\"wandb\"><tr><td>Cosine Similarity Layer 10</td><td>0.99868</td></tr><tr><td>Cosine Similarity Layer 5</td><td>0.99911</td></tr><tr><td>Epoch</td><td>100</td></tr><tr><td>L2 Distance Layer 10</td><td>1.16744</td></tr><tr><td>L2 Distance Layer 5</td><td>0.53084</td></tr><tr><td>Loss</td><td>0.02201</td></tr><tr><td>Train_Accuracy</td><td>99.32018</td></tr></table><br/></div></div>"
      ],
      "text/plain": [
       "<IPython.core.display.HTML object>"
      ]
     },
     "metadata": {},
     "output_type": "display_data"
    },
    {
     "data": {
      "text/html": [
       " View run <strong style=\"color:#cdcd00\">honest-sweep-1</strong> at: <a href='https://wandb.ai/project-ai-scream/cos-angle/runs/81hn7bee' target=\"_blank\">https://wandb.ai/project-ai-scream/cos-angle/runs/81hn7bee</a><br/>Synced 6 W&B file(s), 0 media file(s), 0 artifact file(s) and 0 other file(s)"
      ],
      "text/plain": [
       "<IPython.core.display.HTML object>"
      ]
     },
     "metadata": {},
     "output_type": "display_data"
    },
    {
     "data": {
      "text/html": [
       "Find logs at: <code>./wandb/run-20231129_155012-81hn7bee/logs</code>"
      ],
      "text/plain": [
       "<IPython.core.display.HTML object>"
      ]
     },
     "metadata": {},
     "output_type": "display_data"
    },
    {
     "name": "stderr",
     "output_type": "stream",
     "text": [
      "\u001b[34m\u001b[1mwandb\u001b[0m: Agent Starting Run: g26ev25b with config:\n",
      "\u001b[34m\u001b[1mwandb\u001b[0m: \tbatchnorm: True\n",
      "Failed to detect the name of this notebook, you can set it manually with the WANDB_NOTEBOOK_NAME environment variable to enable code saving.\n"
     ]
    },
    {
     "data": {
      "text/html": [
       "Tracking run with wandb version 0.16.0"
      ],
      "text/plain": [
       "<IPython.core.display.HTML object>"
      ]
     },
     "metadata": {},
     "output_type": "display_data"
    },
    {
     "data": {
      "text/html": [
       "Run data is saved locally in <code>/home2/sanika/project-ai-scream/wandb/run-20231129_160821-g26ev25b</code>"
      ],
      "text/plain": [
       "<IPython.core.display.HTML object>"
      ]
     },
     "metadata": {},
     "output_type": "display_data"
    },
    {
     "data": {
      "text/html": [
       "Syncing run <strong><a href='https://wandb.ai/project-ai-scream/cos-angle/runs/g26ev25b' target=\"_blank\">distinctive-sweep-2</a></strong> to <a href='https://wandb.ai/project-ai-scream/cos-angle' target=\"_blank\">Weights & Biases</a> (<a href='https://wandb.me/run' target=\"_blank\">docs</a>)<br/>Sweep page: <a href='https://wandb.ai/project-ai-scream/cos-angle/sweeps/tgwfx72h' target=\"_blank\">https://wandb.ai/project-ai-scream/cos-angle/sweeps/tgwfx72h</a>"
      ],
      "text/plain": [
       "<IPython.core.display.HTML object>"
      ]
     },
     "metadata": {},
     "output_type": "display_data"
    },
    {
     "data": {
      "text/html": [
       " View project at <a href='https://wandb.ai/project-ai-scream/cos-angle' target=\"_blank\">https://wandb.ai/project-ai-scream/cos-angle</a>"
      ],
      "text/plain": [
       "<IPython.core.display.HTML object>"
      ]
     },
     "metadata": {},
     "output_type": "display_data"
    },
    {
     "data": {
      "text/html": [
       " View sweep at <a href='https://wandb.ai/project-ai-scream/cos-angle/sweeps/tgwfx72h' target=\"_blank\">https://wandb.ai/project-ai-scream/cos-angle/sweeps/tgwfx72h</a>"
      ],
      "text/plain": [
       "<IPython.core.display.HTML object>"
      ]
     },
     "metadata": {},
     "output_type": "display_data"
    },
    {
     "data": {
      "text/html": [
       " View run at <a href='https://wandb.ai/project-ai-scream/cos-angle/runs/g26ev25b' target=\"_blank\">https://wandb.ai/project-ai-scream/cos-angle/runs/g26ev25b</a>"
      ],
      "text/plain": [
       "<IPython.core.display.HTML object>"
      ]
     },
     "metadata": {},
     "output_type": "display_data"
    },
    {
     "name": "stderr",
     "output_type": "stream",
     "text": [
      "100%|██████████| 100/100 [19:37<00:00, 11.77s/it]\n"
     ]
    },
    {
     "data": {
      "text/html": [
       "<style>\n",
       "    table.wandb td:nth-child(1) { padding: 0 10px; text-align: left ; width: auto;} td:nth-child(2) {text-align: left ; width: 100%}\n",
       "    .wandb-row { display: flex; flex-direction: row; flex-wrap: wrap; justify-content: flex-start; width: 100% }\n",
       "    .wandb-col { display: flex; flex-direction: column; flex-basis: 100%; flex: 1; padding: 10px; }\n",
       "    </style>\n",
       "<div class=\"wandb-row\"><div class=\"wandb-col\"><h3>Run history:</h3><br/><table class=\"wandb\"><tr><td>Cosine Similarity Layer 10</td><td>▁▄▄▅▆▆▆▆▆▆▆▆▆▇▇▇▆▇▇▇▇▇▇▇▇▇▇▇▇▇▇▇▇█▇█▇▇▇▇</td></tr><tr><td>Cosine Similarity Layer 5</td><td>▁▅▅▅▆▆▇▆▇▇▆▇▆▇▇▇▆▇▆▇▇▇▆▇▇▇▇▆▆▇▇▇▆▇▇█▇▇▇▆</td></tr><tr><td>Epoch</td><td>▁▁▁▂▂▂▂▂▂▃▃▃▃▃▄▄▄▄▄▄▅▅▅▅▅▅▆▆▆▆▆▇▇▇▇▇▇███</td></tr><tr><td>L2 Distance Layer 10</td><td>█▄▄▃▂▂▁▁▂▂▂▂▃▃▃▃▅▃▄▄▄▃▅▅▄▅▅▆▆▄▅▅▆▄▆▂▆▆▇▇</td></tr><tr><td>L2 Distance Layer 5</td><td>█▄▄▄▃▂▂▂▂▂▂▂▃▂▂▂▄▂▃▃▂▃▄▃▃▃▃▄▄▃▃▃▄▂▄▁▄▃▄▅</td></tr><tr><td>Loss</td><td>█▄▃▂▂▁▁▁▁▁▁▁▁▁▁▁▁▁▁▁▁▁▁▁▁▁▁▁▁▁▁▁▂▁▁▁▁▁▁▁</td></tr><tr><td>Train_Accuracy</td><td>▁▅▆▇▇███████████████████████████████████</td></tr></table><br/></div><div class=\"wandb-col\"><h3>Run summary:</h3><br/><table class=\"wandb\"><tr><td>Cosine Similarity Layer 10</td><td>0.9969</td></tr><tr><td>Cosine Similarity Layer 5</td><td>0.99824</td></tr><tr><td>Epoch</td><td>100</td></tr><tr><td>L2 Distance Layer 10</td><td>1.8377</td></tr><tr><td>L2 Distance Layer 5</td><td>0.69702</td></tr><tr><td>Loss</td><td>0.01816</td></tr><tr><td>Train_Accuracy</td><td>99.46262</td></tr></table><br/></div></div>"
      ],
      "text/plain": [
       "<IPython.core.display.HTML object>"
      ]
     },
     "metadata": {},
     "output_type": "display_data"
    },
    {
     "data": {
      "text/html": [
       " View run <strong style=\"color:#cdcd00\">distinctive-sweep-2</strong> at: <a href='https://wandb.ai/project-ai-scream/cos-angle/runs/g26ev25b' target=\"_blank\">https://wandb.ai/project-ai-scream/cos-angle/runs/g26ev25b</a><br/>Synced 6 W&B file(s), 0 media file(s), 0 artifact file(s) and 0 other file(s)"
      ],
      "text/plain": [
       "<IPython.core.display.HTML object>"
      ]
     },
     "metadata": {},
     "output_type": "display_data"
    },
    {
     "data": {
      "text/html": [
       "Find logs at: <code>./wandb/run-20231129_160821-g26ev25b/logs</code>"
      ],
      "text/plain": [
       "<IPython.core.display.HTML object>"
      ]
     },
     "metadata": {},
     "output_type": "display_data"
    },
    {
     "name": "stderr",
     "output_type": "stream",
     "text": [
      "\u001b[34m\u001b[1mwandb\u001b[0m: Sweep Agent: Waiting for job.\n",
      "\u001b[34m\u001b[1mwandb\u001b[0m: Sweep Agent: Exiting.\n"
     ]
    }
   ],
   "source": [
    "wandb.agent(sweep_id, wandb_logging)"
   ]
  }
 ],
 "metadata": {
  "kernelspec": {
   "display_name": "smai",
   "language": "python",
   "name": "python3"
  },
  "language_info": {
   "codemirror_mode": {
    "name": "ipython",
    "version": 3
   },
   "file_extension": ".py",
   "mimetype": "text/x-python",
   "name": "python",
   "nbconvert_exporter": "python",
   "pygments_lexer": "ipython3",
   "version": "3.7.16"
  }
 },
 "nbformat": 4,
 "nbformat_minor": 2
}
