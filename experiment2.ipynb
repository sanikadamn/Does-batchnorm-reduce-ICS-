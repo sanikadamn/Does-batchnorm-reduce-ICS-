{
 "cells": [
  {
   "cell_type": "markdown",
   "metadata": {},
   "source": [
    "# Experiment 2\n",
    "Checking whether batchnorm affects Internal Covariate Shift"
   ]
  },
  {
   "cell_type": "code",
   "execution_count": 1,
   "metadata": {},
   "outputs": [
    {
     "name": "stderr",
     "output_type": "stream",
     "text": [
      "/home2/sanika/miniconda3/envs/smai/lib/python3.7/site-packages/tqdm/auto.py:21: TqdmWarning: IProgress not found. Please update jupyter and ipywidgets. See https://ipywidgets.readthedocs.io/en/stable/user_install.html\n",
      "  from .autonotebook import tqdm as notebook_tqdm\n"
     ]
    }
   ],
   "source": [
    "import torch\n",
    "import torchvision.datasets as datasets\n",
    "import matplotlib.pyplot as plt\n",
    "from collections import Counter\n",
    "import numpy as np\n",
    "from torchvision.transforms import ToTensor\n",
    "from torch.utils.data import DataLoader, TensorDataset, random_split\n",
    "import torch.nn as nn\n",
    "from torch import optim\n",
    "from torch.autograd import Variable\n",
    "import scipy.io as sio\n",
    "from sklearn.model_selection import train_test_split\n",
    "from sklearn.metrics import confusion_matrix\n",
    "from sklearn.metrics import classification_report\n",
    "from torchvision import datasets, transforms\n",
    "from tqdm import tqdm"
   ]
  },
  {
   "cell_type": "code",
   "execution_count": 2,
   "metadata": {},
   "outputs": [],
   "source": [
    "import wandb"
   ]
  },
  {
   "cell_type": "code",
   "execution_count": 3,
   "metadata": {},
   "outputs": [
    {
     "name": "stdout",
     "output_type": "stream",
     "text": [
      "Files already downloaded and verified\n"
     ]
    }
   ],
   "source": [
    "# download the cifar10 dataset\n",
    "trainset = datasets.CIFAR10(root='/scratch/cifar10', train=True, download=True, transform=ToTensor())"
   ]
  },
  {
   "cell_type": "code",
   "execution_count": 4,
   "metadata": {},
   "outputs": [],
   "source": [
    "testset = datasets.CIFAR10(root='/scratch/cifar10', train=False, download=False, transform=ToTensor())"
   ]
  },
  {
   "cell_type": "code",
   "execution_count": 5,
   "metadata": {},
   "outputs": [
    {
     "data": {
      "text/plain": [
       "device(type='cuda')"
      ]
     },
     "execution_count": 5,
     "metadata": {},
     "output_type": "execute_result"
    }
   ],
   "source": [
    "device = torch.device('cuda' if torch.cuda.is_available() else 'cpu')\n",
    "device"
   ]
  },
  {
   "cell_type": "code",
   "execution_count": 6,
   "metadata": {},
   "outputs": [
    {
     "name": "stdout",
     "output_type": "stream",
     "text": [
      "50000\n"
     ]
    }
   ],
   "source": [
    "# print len of train\n",
    "print(len(trainset))"
   ]
  },
  {
   "cell_type": "code",
   "execution_count": 7,
   "metadata": {},
   "outputs": [],
   "source": [
    "#create a dataloader for train and test\n",
    "loaders = {\n",
    "    'train': DataLoader(trainset, batch_size=256, shuffle=True, num_workers=1),\n",
    "    'test': DataLoader(testset, batch_size=512, shuffle=False, num_workers=1)\n",
    "}"
   ]
  },
  {
   "cell_type": "markdown",
   "metadata": {},
   "source": [
    "## Comparing models with and without noise added"
   ]
  },
  {
   "cell_type": "code",
   "execution_count": 8,
   "metadata": {},
   "outputs": [],
   "source": [
    "# this class is used to add a layer that adds noise to the input\n",
    "# noise is added after batchnorm layers and before relu\n",
    "class AddNoiseLayer(torch.nn.Module):\n",
    "    # mu, sigma are mean and std of noise\n",
    "    def __init__(self, n_mu, n_sigma, r_mu, r_sigma):\n",
    "        super(AddNoiseLayer, self).__init__()\n",
    "        self.n_mu = n_mu\n",
    "        self.n_sigma = n_sigma\n",
    "        self.r_mu = r_mu\n",
    "        self.r_sigma = r_sigma\n",
    "\n",
    "    def forward(self, x):\n",
    "        # sample time-varying noise vectors from normal distributions for all layers and time steps at once\n",
    "        # generating random mean values for the noise at each time step\n",
    "        mu_t = torch.rand(x.size(0), x.size(1), x.size(2), 1, device=x.device) * 2 * self.n_mu - self.n_mu\n",
    "        \n",
    "        # generating random standard deviation values for the noise at each time step\n",
    "        sigma_t = torch.rand(x.size(0), x.size(1), x.size(2), 1, device=x.device) * self.n_sigma + 1\n",
    "        \n",
    "        # creating time-varying noise by sampling from a normal distribution with the generated mean and standard deviation\n",
    "        noise = torch.randn_like(x) * sigma_t + mu_t\n",
    "\n",
    "        # adding the noise and scaling it by the standard deviation and adding the mean\n",
    "        x = x + self.r_sigma * noise + self.r_mu\n",
    "        return x\n",
    "\n",
    "\n",
    "# This class is the actual VGG16 model\n",
    "class VGG16(nn.Module):\n",
    "    # init function, depends on whether noise or batchnorm layers are added\n",
    "    def __init__(self, num_classes, batchnorm, noise):\n",
    "        self.noise = noise\n",
    "        super(VGG16, self).__init__()\n",
    "        self.layer1 = self._make_layer(3, 64, batchnorm)\n",
    "        self.layer2 = self._make_layer(64, 64, batchnorm, maxpool=True)\n",
    "        self.layer3 = self._make_layer(64, 128, batchnorm)\n",
    "        self.layer4 = self._make_layer(128, 128, batchnorm, maxpool=True)\n",
    "        self.layer5 = self._make_layer(128, 256, batchnorm)\n",
    "        self.layer6 = self._make_layer(256, 256, batchnorm)\n",
    "        self.layer7 = self._make_layer(256, 256, batchnorm, maxpool=True)\n",
    "        self.layer8 = self._make_layer(256, 512, batchnorm)\n",
    "        self.layer9 = self._make_layer(512, 512, batchnorm)\n",
    "        self.layer10 = self._make_layer(512, 512, batchnorm, maxpool=True)\n",
    "        self.layer11 = self._make_layer(512, 512, batchnorm)\n",
    "        self.layer12 = self._make_layer(512, 512, batchnorm)\n",
    "        self.layer13 = self._make_layer(512, 512, batchnorm, maxpool=True)\n",
    "        self.layer14 = nn.Sequential(\n",
    "            nn.Dropout(0.5),\n",
    "            nn.Linear(512, 4096),\n",
    "            nn.ReLU(),\n",
    "        )\n",
    "        self.layer15 = nn.Sequential(\n",
    "            nn.Dropout(0.5),\n",
    "            nn.Linear(4096, 4096),\n",
    "            nn.ReLU(),\n",
    "        )\n",
    "        self.layer16 = nn.Sequential(\n",
    "            nn.Linear(4096, num_classes),\n",
    "        )\n",
    "\n",
    "    # creates specific layers for layers with batchnorm and noise\n",
    "    def _make_layer(self, in_channels, out_channels, batchnorm, maxpool=False):\n",
    "        layers = [\n",
    "            nn.Conv2d(in_channels, out_channels, kernel_size=3, padding=1, stride=1),\n",
    "        ]\n",
    "        \n",
    "        if batchnorm:\n",
    "            layers.append(nn.BatchNorm2d(out_channels))\n",
    "            \n",
    "            if self.noise:\n",
    "                # used the same noise parameters as in the paper\n",
    "                layers.append(AddNoiseLayer(0.5, 1.25, 0.1, 0.1))\n",
    "            \n",
    "        layers.append(nn.ReLU())\n",
    "        \n",
    "        if maxpool:\n",
    "            layers.append(nn.MaxPool2d(kernel_size=2, stride=2))\n",
    "            \n",
    "        return nn.Sequential(*layers)\n",
    "\n",
    "    # forward function of the model, does a forward pass on the input\n",
    "    def forward(self, x):\n",
    "        out = self.layer1(x)\n",
    "        out = self.layer2(out)\n",
    "        out = self.layer3(out)\n",
    "        out = self.layer4(out)\n",
    "        out = self.layer5(out)\n",
    "        out = self.layer6(out)\n",
    "        out = self.layer7(out)\n",
    "        out = self.layer8(out)\n",
    "        out = self.layer9(out)\n",
    "        out = self.layer10(out)\n",
    "        out = self.layer11(out)\n",
    "        out = self.layer12(out)\n",
    "        out = self.layer13(out)\n",
    "        out = out.view(out.size(0), -1)\n",
    "        out = self.layer14(out)\n",
    "        out = self.layer15(out)\n",
    "        out = self.layer16(out)\n",
    "        return out\n",
    "    \n",
    "    # this function is used to train the model\n",
    "    def fit(self, loaders, epochs, device, learning_rate):\n",
    "        self.to(device)\n",
    "        # cross entropy loss and adam optimzer are used\n",
    "        criterion = nn.CrossEntropyLoss().to(device)\n",
    "        optimizer = torch.optim.Adam(self.parameters(), lr=learning_rate)\n",
    "        for epoch in tqdm(range(epochs)):\n",
    "            self.train().to(device)\n",
    "\n",
    "            total_loss = 0\n",
    "            correct = 0\n",
    "            total = 0\n",
    "\n",
    "            # iterating over the train data and calculating the loss and accuracy for every 30 steps\n",
    "            for i, (images, labels) in enumerate(loaders['train']):\n",
    "                self.train().to(device)\n",
    "                optimizer.zero_grad()\n",
    "\n",
    "                images = images.to(device)\n",
    "                labels = labels.to(device)\n",
    "                \n",
    "                outputs = self(images)\n",
    "                loss = criterion(outputs, labels)\n",
    "                \n",
    "                loss.backward()\n",
    "                optimizer.step()\n",
    "\n",
    "                total_loss += loss.item()\n",
    "                _, predicted = torch.max(outputs.data, 1)\n",
    "                total += labels.size(0)\n",
    "                correct += (predicted == labels).sum().item()\n",
    "                if(i % 30 == 0):\n",
    "                    wandb.log({\"Epoch\": epoch + 1, \"Loss\": total_loss / (i + 1), \"Train_Accuracy\": 100 *correct / total})"
   ]
  },
  {
   "cell_type": "code",
   "execution_count": 9,
   "metadata": {},
   "outputs": [],
   "source": [
    "# sweep configuration used for wandb sweeps\n",
    "sweep_config = {\n",
    "    'method': 'grid',\n",
    "    'metric': {\n",
    "        'name': 'accuracy',\n",
    "        'goal': 'maximize'\n",
    "    },\n",
    "    'parameters': {\n",
    "        'noise': {\n",
    "            'values': [True, False]\n",
    "        },\n",
    "        'batchnorm': {\n",
    "            'values': [True, False]\n",
    "        },\n",
    "    }\n",
    "}"
   ]
  },
  {
   "cell_type": "code",
   "execution_count": 10,
   "metadata": {},
   "outputs": [
    {
     "name": "stderr",
     "output_type": "stream",
     "text": [
      "Failed to detect the name of this notebook, you can set it manually with the WANDB_NOTEBOOK_NAME environment variable to enable code saving.\n"
     ]
    },
    {
     "name": "stdout",
     "output_type": "stream",
     "text": [
      "Create sweep with ID: rj85v51e\n",
      "Sweep URL: https://wandb.ai/project-ai-scream/adding_noise/sweeps/rj85v51e\n"
     ]
    }
   ],
   "source": [
    "sweep_id = wandb.sweep(sweep_config, project='adding_noise')"
   ]
  },
  {
   "cell_type": "code",
   "execution_count": 11,
   "metadata": {},
   "outputs": [],
   "source": [
    "# function for logging wandb sweeps\n",
    "def wandb_logging():\n",
    "    with wandb.init(config=sweep_config):\n",
    "        config = wandb.config\n",
    "        if config.noise and config.batchnorm:\n",
    "            name = 'batchnorm, noise'\n",
    "        elif config.noise:\n",
    "            name = 'no batchnorm, noise'\n",
    "        elif config.batchnorm:\n",
    "            name = 'batchnorm, no noise'\n",
    "        else:\n",
    "            name = 'no batchnorm, no noise'\n",
    "        wandb.run.name = name\n",
    "        model = VGG16(10, config.batchnorm, config.noise)\n",
    "        model.fit(loaders, 50, device, 0.0005)"
   ]
  },
  {
   "cell_type": "code",
   "execution_count": 12,
   "metadata": {},
   "outputs": [
    {
     "name": "stderr",
     "output_type": "stream",
     "text": [
      "\u001b[34m\u001b[1mwandb\u001b[0m: Agent Starting Run: z35pwdpu with config:\n",
      "\u001b[34m\u001b[1mwandb\u001b[0m: \tbatchnorm: True\n",
      "\u001b[34m\u001b[1mwandb\u001b[0m: \tnoise: True\n",
      "Failed to detect the name of this notebook, you can set it manually with the WANDB_NOTEBOOK_NAME environment variable to enable code saving.\n",
      "\u001b[34m\u001b[1mwandb\u001b[0m: Currently logged in as: \u001b[33msanika-damle\u001b[0m (\u001b[33mproject-ai-scream\u001b[0m). Use \u001b[1m`wandb login --relogin`\u001b[0m to force relogin\n"
     ]
    },
    {
     "data": {
      "text/html": [
       "Tracking run with wandb version 0.16.0"
      ],
      "text/plain": [
       "<IPython.core.display.HTML object>"
      ]
     },
     "metadata": {},
     "output_type": "display_data"
    },
    {
     "data": {
      "text/html": [
       "Run data is saved locally in <code>/home2/sanika/project-ai-scream/wandb/run-20231130_165206-z35pwdpu</code>"
      ],
      "text/plain": [
       "<IPython.core.display.HTML object>"
      ]
     },
     "metadata": {},
     "output_type": "display_data"
    },
    {
     "data": {
      "text/html": [
       "Syncing run <strong><a href='https://wandb.ai/project-ai-scream/adding_noise/runs/z35pwdpu' target=\"_blank\">eternal-sweep-1</a></strong> to <a href='https://wandb.ai/project-ai-scream/adding_noise' target=\"_blank\">Weights & Biases</a> (<a href='https://wandb.me/run' target=\"_blank\">docs</a>)<br/>Sweep page: <a href='https://wandb.ai/project-ai-scream/adding_noise/sweeps/rj85v51e' target=\"_blank\">https://wandb.ai/project-ai-scream/adding_noise/sweeps/rj85v51e</a>"
      ],
      "text/plain": [
       "<IPython.core.display.HTML object>"
      ]
     },
     "metadata": {},
     "output_type": "display_data"
    },
    {
     "data": {
      "text/html": [
       " View project at <a href='https://wandb.ai/project-ai-scream/adding_noise' target=\"_blank\">https://wandb.ai/project-ai-scream/adding_noise</a>"
      ],
      "text/plain": [
       "<IPython.core.display.HTML object>"
      ]
     },
     "metadata": {},
     "output_type": "display_data"
    },
    {
     "data": {
      "text/html": [
       " View sweep at <a href='https://wandb.ai/project-ai-scream/adding_noise/sweeps/rj85v51e' target=\"_blank\">https://wandb.ai/project-ai-scream/adding_noise/sweeps/rj85v51e</a>"
      ],
      "text/plain": [
       "<IPython.core.display.HTML object>"
      ]
     },
     "metadata": {},
     "output_type": "display_data"
    },
    {
     "data": {
      "text/html": [
       " View run at <a href='https://wandb.ai/project-ai-scream/adding_noise/runs/z35pwdpu' target=\"_blank\">https://wandb.ai/project-ai-scream/adding_noise/runs/z35pwdpu</a>"
      ],
      "text/plain": [
       "<IPython.core.display.HTML object>"
      ]
     },
     "metadata": {},
     "output_type": "display_data"
    },
    {
     "name": "stderr",
     "output_type": "stream",
     "text": [
      "100%|██████████| 50/50 [10:54<00:00, 13.09s/it]\n"
     ]
    },
    {
     "data": {
      "text/html": [
       "<style>\n",
       "    table.wandb td:nth-child(1) { padding: 0 10px; text-align: left ; width: auto;} td:nth-child(2) {text-align: left ; width: 100%}\n",
       "    .wandb-row { display: flex; flex-direction: row; flex-wrap: wrap; justify-content: flex-start; width: 100% }\n",
       "    .wandb-col { display: flex; flex-direction: column; flex-basis: 100%; flex: 1; padding: 10px; }\n",
       "    </style>\n",
       "<div class=\"wandb-row\"><div class=\"wandb-col\"><h3>Run history:</h3><br/><table class=\"wandb\"><tr><td>Epoch</td><td>▁▁▁▁▂▂▂▂▂▃▃▃▃▃▃▄▄▄▄▄▅▅▅▅▅▅▆▆▆▆▆▇▇▇▇▇▇███</td></tr><tr><td>Loss</td><td>█▇▅▄▃▃▃▂▂▂▂▂▂▂▁▁▁▁▁▁▁▁▁▁▁▁▁▁▁▁▁▁▁▁▁▁▁▁▁▁</td></tr><tr><td>Train_Accuracy</td><td>▁▂▄▅▆▆▇▇▇▇▇█████████████████████████████</td></tr></table><br/></div><div class=\"wandb-col\"><h3>Run summary:</h3><br/><table class=\"wandb\"><tr><td>Epoch</td><td>50</td></tr><tr><td>Loss</td><td>0.03567</td></tr><tr><td>Train_Accuracy</td><td>98.99646</td></tr></table><br/></div></div>"
      ],
      "text/plain": [
       "<IPython.core.display.HTML object>"
      ]
     },
     "metadata": {},
     "output_type": "display_data"
    },
    {
     "data": {
      "text/html": [
       " View run <strong style=\"color:#cdcd00\">eternal-sweep-1</strong> at: <a href='https://wandb.ai/project-ai-scream/adding_noise/runs/z35pwdpu' target=\"_blank\">https://wandb.ai/project-ai-scream/adding_noise/runs/z35pwdpu</a><br/>Synced 6 W&B file(s), 0 media file(s), 0 artifact file(s) and 0 other file(s)"
      ],
      "text/plain": [
       "<IPython.core.display.HTML object>"
      ]
     },
     "metadata": {},
     "output_type": "display_data"
    },
    {
     "data": {
      "text/html": [
       "Find logs at: <code>./wandb/run-20231130_165206-z35pwdpu/logs</code>"
      ],
      "text/plain": [
       "<IPython.core.display.HTML object>"
      ]
     },
     "metadata": {},
     "output_type": "display_data"
    },
    {
     "name": "stderr",
     "output_type": "stream",
     "text": [
      "\u001b[34m\u001b[1mwandb\u001b[0m: Agent Starting Run: ukgczktf with config:\n",
      "\u001b[34m\u001b[1mwandb\u001b[0m: \tbatchnorm: True\n",
      "\u001b[34m\u001b[1mwandb\u001b[0m: \tnoise: False\n",
      "Failed to detect the name of this notebook, you can set it manually with the WANDB_NOTEBOOK_NAME environment variable to enable code saving.\n"
     ]
    },
    {
     "data": {
      "text/html": [
       "Tracking run with wandb version 0.16.0"
      ],
      "text/plain": [
       "<IPython.core.display.HTML object>"
      ]
     },
     "metadata": {},
     "output_type": "display_data"
    },
    {
     "data": {
      "text/html": [
       "Run data is saved locally in <code>/home2/sanika/project-ai-scream/wandb/run-20231130_170328-ukgczktf</code>"
      ],
      "text/plain": [
       "<IPython.core.display.HTML object>"
      ]
     },
     "metadata": {},
     "output_type": "display_data"
    },
    {
     "data": {
      "text/html": [
       "Syncing run <strong><a href='https://wandb.ai/project-ai-scream/adding_noise/runs/ukgczktf' target=\"_blank\">comfy-sweep-2</a></strong> to <a href='https://wandb.ai/project-ai-scream/adding_noise' target=\"_blank\">Weights & Biases</a> (<a href='https://wandb.me/run' target=\"_blank\">docs</a>)<br/>Sweep page: <a href='https://wandb.ai/project-ai-scream/adding_noise/sweeps/rj85v51e' target=\"_blank\">https://wandb.ai/project-ai-scream/adding_noise/sweeps/rj85v51e</a>"
      ],
      "text/plain": [
       "<IPython.core.display.HTML object>"
      ]
     },
     "metadata": {},
     "output_type": "display_data"
    },
    {
     "data": {
      "text/html": [
       " View project at <a href='https://wandb.ai/project-ai-scream/adding_noise' target=\"_blank\">https://wandb.ai/project-ai-scream/adding_noise</a>"
      ],
      "text/plain": [
       "<IPython.core.display.HTML object>"
      ]
     },
     "metadata": {},
     "output_type": "display_data"
    },
    {
     "data": {
      "text/html": [
       " View sweep at <a href='https://wandb.ai/project-ai-scream/adding_noise/sweeps/rj85v51e' target=\"_blank\">https://wandb.ai/project-ai-scream/adding_noise/sweeps/rj85v51e</a>"
      ],
      "text/plain": [
       "<IPython.core.display.HTML object>"
      ]
     },
     "metadata": {},
     "output_type": "display_data"
    },
    {
     "data": {
      "text/html": [
       " View run at <a href='https://wandb.ai/project-ai-scream/adding_noise/runs/ukgczktf' target=\"_blank\">https://wandb.ai/project-ai-scream/adding_noise/runs/ukgczktf</a>"
      ],
      "text/plain": [
       "<IPython.core.display.HTML object>"
      ]
     },
     "metadata": {},
     "output_type": "display_data"
    },
    {
     "name": "stderr",
     "output_type": "stream",
     "text": [
      "100%|██████████| 50/50 [09:45<00:00, 11.72s/it]\n"
     ]
    },
    {
     "data": {
      "text/html": [
       "<style>\n",
       "    table.wandb td:nth-child(1) { padding: 0 10px; text-align: left ; width: auto;} td:nth-child(2) {text-align: left ; width: 100%}\n",
       "    .wandb-row { display: flex; flex-direction: row; flex-wrap: wrap; justify-content: flex-start; width: 100% }\n",
       "    .wandb-col { display: flex; flex-direction: column; flex-basis: 100%; flex: 1; padding: 10px; }\n",
       "    </style>\n",
       "<div class=\"wandb-row\"><div class=\"wandb-col\"><h3>Run history:</h3><br/><table class=\"wandb\"><tr><td>Epoch</td><td>▁▁▁▁▂▂▂▂▂▃▃▃▃▃▃▄▄▄▄▄▅▅▅▅▅▅▆▆▆▆▆▇▇▇▇▇▇███</td></tr><tr><td>Loss</td><td>█▆▅▄▃▃▂▂▂▂▁▁▁▁▁▁▁▁▁▁▁▁▁▁▁▁▁▁▁▁▁▁▁▁▁▁▁▁▁▁</td></tr><tr><td>Train_Accuracy</td><td>▁▃▅▅▆▇▇▇▇▇██████████████████████████████</td></tr></table><br/></div><div class=\"wandb-col\"><h3>Run summary:</h3><br/><table class=\"wandb\"><tr><td>Epoch</td><td>50</td></tr><tr><td>Loss</td><td>0.02602</td></tr><tr><td>Train_Accuracy</td><td>99.22522</td></tr></table><br/></div></div>"
      ],
      "text/plain": [
       "<IPython.core.display.HTML object>"
      ]
     },
     "metadata": {},
     "output_type": "display_data"
    },
    {
     "data": {
      "text/html": [
       " View run <strong style=\"color:#cdcd00\">comfy-sweep-2</strong> at: <a href='https://wandb.ai/project-ai-scream/adding_noise/runs/ukgczktf' target=\"_blank\">https://wandb.ai/project-ai-scream/adding_noise/runs/ukgczktf</a><br/>Synced 6 W&B file(s), 0 media file(s), 0 artifact file(s) and 0 other file(s)"
      ],
      "text/plain": [
       "<IPython.core.display.HTML object>"
      ]
     },
     "metadata": {},
     "output_type": "display_data"
    },
    {
     "data": {
      "text/html": [
       "Find logs at: <code>./wandb/run-20231130_170328-ukgczktf/logs</code>"
      ],
      "text/plain": [
       "<IPython.core.display.HTML object>"
      ]
     },
     "metadata": {},
     "output_type": "display_data"
    },
    {
     "name": "stderr",
     "output_type": "stream",
     "text": [
      "\u001b[34m\u001b[1mwandb\u001b[0m: Agent Starting Run: hcrs446n with config:\n",
      "\u001b[34m\u001b[1mwandb\u001b[0m: \tbatchnorm: False\n",
      "\u001b[34m\u001b[1mwandb\u001b[0m: \tnoise: True\n",
      "Failed to detect the name of this notebook, you can set it manually with the WANDB_NOTEBOOK_NAME environment variable to enable code saving.\n"
     ]
    },
    {
     "data": {
      "text/html": [
       "Tracking run with wandb version 0.16.0"
      ],
      "text/plain": [
       "<IPython.core.display.HTML object>"
      ]
     },
     "metadata": {},
     "output_type": "display_data"
    },
    {
     "data": {
      "text/html": [
       "Run data is saved locally in <code>/home2/sanika/project-ai-scream/wandb/run-20231130_171330-hcrs446n</code>"
      ],
      "text/plain": [
       "<IPython.core.display.HTML object>"
      ]
     },
     "metadata": {},
     "output_type": "display_data"
    },
    {
     "data": {
      "text/html": [
       "Syncing run <strong><a href='https://wandb.ai/project-ai-scream/adding_noise/runs/hcrs446n' target=\"_blank\">efficient-sweep-3</a></strong> to <a href='https://wandb.ai/project-ai-scream/adding_noise' target=\"_blank\">Weights & Biases</a> (<a href='https://wandb.me/run' target=\"_blank\">docs</a>)<br/>Sweep page: <a href='https://wandb.ai/project-ai-scream/adding_noise/sweeps/rj85v51e' target=\"_blank\">https://wandb.ai/project-ai-scream/adding_noise/sweeps/rj85v51e</a>"
      ],
      "text/plain": [
       "<IPython.core.display.HTML object>"
      ]
     },
     "metadata": {},
     "output_type": "display_data"
    },
    {
     "data": {
      "text/html": [
       " View project at <a href='https://wandb.ai/project-ai-scream/adding_noise' target=\"_blank\">https://wandb.ai/project-ai-scream/adding_noise</a>"
      ],
      "text/plain": [
       "<IPython.core.display.HTML object>"
      ]
     },
     "metadata": {},
     "output_type": "display_data"
    },
    {
     "data": {
      "text/html": [
       " View sweep at <a href='https://wandb.ai/project-ai-scream/adding_noise/sweeps/rj85v51e' target=\"_blank\">https://wandb.ai/project-ai-scream/adding_noise/sweeps/rj85v51e</a>"
      ],
      "text/plain": [
       "<IPython.core.display.HTML object>"
      ]
     },
     "metadata": {},
     "output_type": "display_data"
    },
    {
     "data": {
      "text/html": [
       " View run at <a href='https://wandb.ai/project-ai-scream/adding_noise/runs/hcrs446n' target=\"_blank\">https://wandb.ai/project-ai-scream/adding_noise/runs/hcrs446n</a>"
      ],
      "text/plain": [
       "<IPython.core.display.HTML object>"
      ]
     },
     "metadata": {},
     "output_type": "display_data"
    },
    {
     "name": "stderr",
     "output_type": "stream",
     "text": [
      "100%|██████████| 50/50 [08:47<00:00, 10.55s/it]\n"
     ]
    },
    {
     "data": {
      "text/html": [
       "<style>\n",
       "    table.wandb td:nth-child(1) { padding: 0 10px; text-align: left ; width: auto;} td:nth-child(2) {text-align: left ; width: 100%}\n",
       "    .wandb-row { display: flex; flex-direction: row; flex-wrap: wrap; justify-content: flex-start; width: 100% }\n",
       "    .wandb-col { display: flex; flex-direction: column; flex-basis: 100%; flex: 1; padding: 10px; }\n",
       "    </style>\n",
       "<div class=\"wandb-row\"><div class=\"wandb-col\"><h3>Run history:</h3><br/><table class=\"wandb\"><tr><td>Epoch</td><td>▁▁▁▁▂▂▂▂▂▃▃▃▃▃▃▄▄▄▄▄▅▅▅▅▅▅▆▆▆▆▆▇▇▇▇▇▇███</td></tr><tr><td>Loss</td><td>██▇▆▅▅▄▃▃▃▃▃▂▂▂▂▂▂▂▂▂▁▁▁▁▁▁▁▁▁▁▁▁▁▁▁▁▁▁▁</td></tr><tr><td>Train_Accuracy</td><td>▁▁▂▃▄▄▅▆▆▆▆▇▇▇▇▇▇▇▇█████████████████████</td></tr></table><br/></div><div class=\"wandb-col\"><h3>Run summary:</h3><br/><table class=\"wandb\"><tr><td>Epoch</td><td>50</td></tr><tr><td>Loss</td><td>0.05398</td></tr><tr><td>Train_Accuracy</td><td>98.39002</td></tr></table><br/></div></div>"
      ],
      "text/plain": [
       "<IPython.core.display.HTML object>"
      ]
     },
     "metadata": {},
     "output_type": "display_data"
    },
    {
     "data": {
      "text/html": [
       " View run <strong style=\"color:#cdcd00\">efficient-sweep-3</strong> at: <a href='https://wandb.ai/project-ai-scream/adding_noise/runs/hcrs446n' target=\"_blank\">https://wandb.ai/project-ai-scream/adding_noise/runs/hcrs446n</a><br/>Synced 6 W&B file(s), 0 media file(s), 0 artifact file(s) and 0 other file(s)"
      ],
      "text/plain": [
       "<IPython.core.display.HTML object>"
      ]
     },
     "metadata": {},
     "output_type": "display_data"
    },
    {
     "data": {
      "text/html": [
       "Find logs at: <code>./wandb/run-20231130_171330-hcrs446n/logs</code>"
      ],
      "text/plain": [
       "<IPython.core.display.HTML object>"
      ]
     },
     "metadata": {},
     "output_type": "display_data"
    },
    {
     "name": "stderr",
     "output_type": "stream",
     "text": [
      "\u001b[34m\u001b[1mwandb\u001b[0m: Agent Starting Run: l2lt2g0t with config:\n",
      "\u001b[34m\u001b[1mwandb\u001b[0m: \tbatchnorm: False\n",
      "\u001b[34m\u001b[1mwandb\u001b[0m: \tnoise: False\n",
      "Failed to detect the name of this notebook, you can set it manually with the WANDB_NOTEBOOK_NAME environment variable to enable code saving.\n"
     ]
    },
    {
     "data": {
      "text/html": [
       "Tracking run with wandb version 0.16.0"
      ],
      "text/plain": [
       "<IPython.core.display.HTML object>"
      ]
     },
     "metadata": {},
     "output_type": "display_data"
    },
    {
     "data": {
      "text/html": [
       "Run data is saved locally in <code>/home2/sanika/project-ai-scream/wandb/run-20231130_172240-l2lt2g0t</code>"
      ],
      "text/plain": [
       "<IPython.core.display.HTML object>"
      ]
     },
     "metadata": {},
     "output_type": "display_data"
    },
    {
     "data": {
      "text/html": [
       "Syncing run <strong><a href='https://wandb.ai/project-ai-scream/adding_noise/runs/l2lt2g0t' target=\"_blank\">devout-sweep-4</a></strong> to <a href='https://wandb.ai/project-ai-scream/adding_noise' target=\"_blank\">Weights & Biases</a> (<a href='https://wandb.me/run' target=\"_blank\">docs</a>)<br/>Sweep page: <a href='https://wandb.ai/project-ai-scream/adding_noise/sweeps/rj85v51e' target=\"_blank\">https://wandb.ai/project-ai-scream/adding_noise/sweeps/rj85v51e</a>"
      ],
      "text/plain": [
       "<IPython.core.display.HTML object>"
      ]
     },
     "metadata": {},
     "output_type": "display_data"
    },
    {
     "data": {
      "text/html": [
       " View project at <a href='https://wandb.ai/project-ai-scream/adding_noise' target=\"_blank\">https://wandb.ai/project-ai-scream/adding_noise</a>"
      ],
      "text/plain": [
       "<IPython.core.display.HTML object>"
      ]
     },
     "metadata": {},
     "output_type": "display_data"
    },
    {
     "data": {
      "text/html": [
       " View sweep at <a href='https://wandb.ai/project-ai-scream/adding_noise/sweeps/rj85v51e' target=\"_blank\">https://wandb.ai/project-ai-scream/adding_noise/sweeps/rj85v51e</a>"
      ],
      "text/plain": [
       "<IPython.core.display.HTML object>"
      ]
     },
     "metadata": {},
     "output_type": "display_data"
    },
    {
     "data": {
      "text/html": [
       " View run at <a href='https://wandb.ai/project-ai-scream/adding_noise/runs/l2lt2g0t' target=\"_blank\">https://wandb.ai/project-ai-scream/adding_noise/runs/l2lt2g0t</a>"
      ],
      "text/plain": [
       "<IPython.core.display.HTML object>"
      ]
     },
     "metadata": {},
     "output_type": "display_data"
    },
    {
     "name": "stderr",
     "output_type": "stream",
     "text": [
      "100%|██████████| 50/50 [08:41<00:00, 10.43s/it]\n"
     ]
    },
    {
     "data": {
      "text/html": [
       "<style>\n",
       "    table.wandb td:nth-child(1) { padding: 0 10px; text-align: left ; width: auto;} td:nth-child(2) {text-align: left ; width: 100%}\n",
       "    .wandb-row { display: flex; flex-direction: row; flex-wrap: wrap; justify-content: flex-start; width: 100% }\n",
       "    .wandb-col { display: flex; flex-direction: column; flex-basis: 100%; flex: 1; padding: 10px; }\n",
       "    </style>\n",
       "<div class=\"wandb-row\"><div class=\"wandb-col\"><h3>Run history:</h3><br/><table class=\"wandb\"><tr><td>Epoch</td><td>▁▁▁▁▂▂▂▂▂▃▃▃▃▃▃▄▄▄▄▄▅▅▅▅▅▅▆▆▆▆▆▇▇▇▇▇▇███</td></tr><tr><td>Loss</td><td>█▆▆▆▆▆▆▁▅▆▄▅▅▆▅▅▅▅▅▆▅▆▆▅▅▅▅▅▅▅▅▆▅▆▆▅▅▅▅▅</td></tr><tr><td>Train_Accuracy</td><td>▂▁▂▁▃▂▁█▁▁█▂▂▁▂▂▂▂▂▁▂▁▁▂▂▁▅▂▂▂▂▂▂▂▂▁▁▂▂▂</td></tr></table><br/></div><div class=\"wandb-col\"><h3>Run summary:</h3><br/><table class=\"wandb\"><tr><td>Epoch</td><td>50</td></tr><tr><td>Loss</td><td>2.30264</td></tr><tr><td>Train_Accuracy</td><td>9.71815</td></tr></table><br/></div></div>"
      ],
      "text/plain": [
       "<IPython.core.display.HTML object>"
      ]
     },
     "metadata": {},
     "output_type": "display_data"
    },
    {
     "data": {
      "text/html": [
       " View run <strong style=\"color:#cdcd00\">devout-sweep-4</strong> at: <a href='https://wandb.ai/project-ai-scream/adding_noise/runs/l2lt2g0t' target=\"_blank\">https://wandb.ai/project-ai-scream/adding_noise/runs/l2lt2g0t</a><br/>Synced 6 W&B file(s), 0 media file(s), 0 artifact file(s) and 0 other file(s)"
      ],
      "text/plain": [
       "<IPython.core.display.HTML object>"
      ]
     },
     "metadata": {},
     "output_type": "display_data"
    },
    {
     "data": {
      "text/html": [
       "Find logs at: <code>./wandb/run-20231130_172240-l2lt2g0t/logs</code>"
      ],
      "text/plain": [
       "<IPython.core.display.HTML object>"
      ]
     },
     "metadata": {},
     "output_type": "display_data"
    },
    {
     "name": "stderr",
     "output_type": "stream",
     "text": [
      "\u001b[34m\u001b[1mwandb\u001b[0m: Sweep Agent: Waiting for job.\n",
      "\u001b[34m\u001b[1mwandb\u001b[0m: Sweep Agent: Exiting.\n"
     ]
    }
   ],
   "source": [
    "wandb.agent(sweep_id, wandb_logging)"
   ]
  },
  {
   "cell_type": "markdown",
   "metadata": {},
   "source": [
    "## Calculating ICS"
   ]
  },
  {
   "cell_type": "code",
   "execution_count": 41,
   "metadata": {},
   "outputs": [],
   "source": [
    "# class for finding the ics for layer 5 and 10\n",
    "# the base model is the same\n",
    "class VGG16_finding_gradient_difference(nn.Module):\n",
    "    def __init__(self, num_classes, batchnorm):\n",
    "        super(VGG16_finding_gradient_difference, self).__init__()\n",
    "        self.layer1 = self._make_layer(3, 64, batchnorm)\n",
    "        self.layer2 = self._make_layer(64, 64, batchnorm, maxpool=True)\n",
    "        self.layer3 = self._make_layer(64, 128, batchnorm)\n",
    "        self.layer4 = self._make_layer(128, 128, batchnorm, maxpool=True)\n",
    "        self.layer5 = self._make_layer(128, 256, batchnorm)\n",
    "        self.layer6 = self._make_layer(256, 256, batchnorm)\n",
    "        self.layer7 = self._make_layer(256, 256, batchnorm, maxpool=True)\n",
    "        self.layer8 = self._make_layer(256, 512, batchnorm)\n",
    "        self.layer9 = self._make_layer(512, 512, batchnorm)\n",
    "        self.layer10 = self._make_layer(512, 512, batchnorm, maxpool=True)\n",
    "        self.layer11 = self._make_layer(512, 512, batchnorm)\n",
    "        self.layer12 = self._make_layer(512, 512, batchnorm)\n",
    "        self.layer13 = self._make_layer(512, 512, batchnorm, maxpool=True)\n",
    "        self.layer14 = nn.Sequential(\n",
    "            nn.Dropout(0.5),\n",
    "            nn.Linear(512, 4096),\n",
    "            nn.ReLU(),\n",
    "        )\n",
    "        self.layer15 = nn.Sequential(\n",
    "            nn.Dropout(0.5),\n",
    "            nn.Linear(4096, 4096),\n",
    "            nn.ReLU(),\n",
    "        )\n",
    "        self.layer16 = nn.Sequential(\n",
    "            nn.Linear(4096, num_classes),\n",
    "        )\n",
    "\n",
    "    def _make_layer(self, in_channels, out_channels, batchnorm, maxpool=False):\n",
    "        layers = [\n",
    "            nn.Conv2d(in_channels, out_channels, kernel_size=3, padding=1, stride=1),\n",
    "        ]\n",
    "        \n",
    "        if batchnorm:\n",
    "            layers.append(nn.BatchNorm2d(out_channels))\n",
    "            \n",
    "        layers.append(nn.ReLU())\n",
    "        \n",
    "        if maxpool:\n",
    "            layers.append(nn.MaxPool2d(kernel_size=2, stride=2))\n",
    "            \n",
    "        return nn.Sequential(*layers)\n",
    "\n",
    "    # calculates the cosine similiarity between the gradients\n",
    "    def cosine_similarity(self, x, y):\n",
    "        cos = nn.CosineSimilarity(dim=-1, eps=1e-6)\n",
    "        return cos(x.view(-1), y.view(-1))\n",
    "\n",
    "    def forward(self, x):\n",
    "        out = self.layer1(x)\n",
    "        out = self.layer2(out)\n",
    "        out = self.layer3(out)\n",
    "        out = self.layer4(out)\n",
    "        out = self.layer5(out)\n",
    "        out = self.layer6(out)\n",
    "        out = self.layer7(out)\n",
    "        out = self.layer8(out)\n",
    "        out = self.layer9(out)\n",
    "        out = self.layer10(out)\n",
    "        out = self.layer11(out)\n",
    "        out = self.layer12(out)\n",
    "        out = self.layer13(out)\n",
    "        out = out.view(out.size(0), -1)\n",
    "        out = self.layer14(out)\n",
    "        out = self.layer15(out)\n",
    "        out = self.layer16(out)\n",
    "        return out\n",
    "   \n",
    "    # function to store the learnable parameters of the model (weights and biases)\n",
    "    def get_weights(self):\n",
    "        features_weights = []\n",
    "        features_bias = []\n",
    "\n",
    "        # the attributes of model are used to store the weights and biases\n",
    "        for name, module in self.named_children():\n",
    "            if hasattr(module, 'parameters'):\n",
    "                params_dict = {param_name: param for param_name, param in module.named_parameters()}\n",
    "                # Access weight and bias using keys\n",
    "                for key in params_dict.keys():\n",
    "                    if 'weight' in key:\n",
    "                        features_weights.append(params_dict[key].data.clone().detach())\n",
    "                    elif 'bias' in key:\n",
    "                        features_bias.append(params_dict[key].data.clone().detach())\n",
    "    \n",
    "        return features_weights, features_bias\n",
    "    \n",
    "    # function to set the learnable parameters of the model, can be set till a specific layer using \"feature\"\n",
    "    def set_weights(self, features_weights, features_bias, feature=None):\n",
    "        wi = 0\n",
    "        bi = 0\n",
    "\n",
    "        # the attributes of model are used to store the weights and biases\n",
    "        for name, module in self.named_children():\n",
    "            if feature == 5 and name == 'layer5':\n",
    "                return\n",
    "            if feature == 10 and name == 'layer10':\n",
    "                return\n",
    "            if hasattr(module, 'parameters'):\n",
    "                for param_name, param in module.named_parameters():\n",
    "                    if 'weight' in param_name:\n",
    "                        param.data = features_weights[wi]\n",
    "                        wi += 1\n",
    "                    elif 'bias' in param_name:\n",
    "                        param.data = features_bias[bi]\n",
    "                        bi += 1\n",
    "\n",
    "    # function to get the gradient of a specific layer                    \n",
    "    def get_gradient(self, layer_name):\n",
    "        for name, module in self.named_children():\n",
    "            if name == layer_name:\n",
    "                if hasattr(module, 'parameters'):\n",
    "                    for param_name, param in module.named_parameters():\n",
    "                        if 'weight' in param_name:\n",
    "                            return param.grad.clone().detach()\n",
    "        return None \n",
    "\n",
    "    # function to train the model\n",
    "    def fit(self, loaders, epochs, device, learning_rate):\n",
    "        criterion = nn.CrossEntropyLoss().to(device)\n",
    "        optimizer = torch.optim.Adam(self.parameters(), lr=learning_rate)\n",
    "\n",
    "\n",
    "        for epoch in tqdm(range(epochs)):\n",
    "            self.train().to(device)\n",
    "\n",
    "            total_loss = 0\n",
    "            correct = 0\n",
    "            total = 0\n",
    "            for i, (images, labels) in enumerate(loaders['train']):\n",
    "                self.train().to(device)\n",
    "                optimizer.zero_grad()\n",
    "                images = images.to(device)\n",
    "                labels = labels.to(device)\n",
    "\n",
    "                outputs = self(images)\n",
    "                loss = criterion(outputs, labels)\n",
    "                loss.backward()\n",
    "                \n",
    "                if i % 60 == 0:\n",
    "                    # save current weights and biases every 60 steps\n",
    "                    current_features_weights, current_features_bias = self.get_weights()\n",
    "                    grad_5 = self.get_gradient('layer5')\n",
    "                    grad_10 = self.get_gradient('layer10')\n",
    "                \n",
    "                    # update weights and biases\n",
    "                    optimizer.step()\n",
    "                    total_loss += loss.item()\n",
    "                    _, predicted = torch.max(outputs.data, 1)\n",
    "                    total += labels.size(0)\n",
    "                    correct += (predicted == labels).sum().item()\n",
    "\n",
    "                    # save new weights and biases\n",
    "                    new_features_weights, new_features_bias = self.get_weights()\n",
    "\n",
    "                    # set weights and biases to previous values for layer 5\n",
    "                    self.set_weights(current_features_weights, current_features_bias)\n",
    "                    self.set_weights(new_features_weights, new_features_bias, 5)\n",
    "                    optimizer.zero_grad()\n",
    "                    predictions = self(images)\n",
    "                    loss = criterion(predictions, labels)\n",
    "                    loss.backward()\n",
    "                    grad_5_new = self.get_gradient('layer5')\n",
    "\n",
    "                    # for layer 10\n",
    "                    self.set_weights(current_features_weights, current_features_bias)\n",
    "                    self.set_weights(new_features_weights, new_features_bias, 10)\n",
    "                    optimizer.zero_grad()\n",
    "                    predictions = self(images)\n",
    "                    loss = criterion(predictions, labels)\n",
    "                    loss.backward()\n",
    "                    grad_10_new = self.get_gradient('layer10')\n",
    "\n",
    "                    # set weights and biases to previous values\n",
    "                    self.set_weights(new_features_weights, new_features_bias)\n",
    "                    other_weights, other_bias = self.get_weights()\n",
    "\n",
    "                    # calculate ics\n",
    "                    wandb.log({\"Cosine Similarity Layer 5\": self.cosine_similarity(grad_5, grad_5_new)})\n",
    "                    wandb.log({\"Cosine Similarity Layer 10\": self.cosine_similarity(grad_10, grad_10_new)})\n",
    "                    wandb.log({\"L2 Distance Layer 5\": nn.functional.pairwise_distance(grad_5.view(-1), grad_5_new.view(-1), p=2)})\n",
    "                    wandb.log({\"L2 Distance Layer 10\": nn.functional.pairwise_distance(grad_10.view(-1), grad_10_new.view(-1), p=2)})\n",
    "                    wandb.log({\"Epoch\": epoch + 1, \"Loss\": total_loss / (i + 1), \"Train_Accuracy\": 100 *correct / total})\n",
    "                else:\n",
    "                    # in case the step is not the 60th, the loss and accuracy still have to be measured\n",
    "                    optimizer.step()\n",
    "                    total_loss += loss.item()\n",
    "                    _, predicted = torch.max(outputs.data, 1)\n",
    "                    total += labels.size(0)\n",
    "                    correct += (predicted == labels).sum().item()\n"
   ]
  },
  {
   "cell_type": "code",
   "execution_count": 43,
   "metadata": {},
   "outputs": [],
   "source": [
    "# sweep configuration for wandb sweeps\n",
    "sweep_config = {\n",
    "    'method': 'grid',\n",
    "    'metric': {\n",
    "        'name': 'accuracy',\n",
    "        'goal': 'maximize'\n",
    "    },\n",
    "    'parameters': {\n",
    "        'batchnorm': {\n",
    "            'values': [False, True]\n",
    "        },\n",
    "    }\n",
    "}"
   ]
  },
  {
   "cell_type": "code",
   "execution_count": 44,
   "metadata": {},
   "outputs": [
    {
     "name": "stdout",
     "output_type": "stream",
     "text": [
      "Create sweep with ID: iaqs0oiw\n",
      "Sweep URL: https://wandb.ai/project-ai-scream/cos-angle/sweeps/iaqs0oiw\n"
     ]
    }
   ],
   "source": [
    "sweep_id = wandb.sweep(sweep_config, project='cos-angle')"
   ]
  },
  {
   "cell_type": "code",
   "execution_count": 45,
   "metadata": {},
   "outputs": [],
   "source": [
    "def wandb_logging():\n",
    "    with wandb.init(config=sweep_config):\n",
    "        config = wandb.config\n",
    "        if config.batchnorm:\n",
    "            name = 'standard+batchnorm'\n",
    "        else:\n",
    "            name = 'standard'\n",
    "        wandb.run.name = name\n",
    "        model = VGG16_finding_gradient_difference(10, config.batchnorm)\n",
    "        model.fit(loaders, 50, device, 0.0003)"
   ]
  },
  {
   "cell_type": "code",
   "execution_count": 46,
   "metadata": {},
   "outputs": [
    {
     "name": "stderr",
     "output_type": "stream",
     "text": [
      "\u001b[34m\u001b[1mwandb\u001b[0m: Agent Starting Run: bf89vvdm with config:\n",
      "\u001b[34m\u001b[1mwandb\u001b[0m: \tbatchnorm: False\n",
      "Failed to detect the name of this notebook, you can set it manually with the WANDB_NOTEBOOK_NAME environment variable to enable code saving.\n"
     ]
    },
    {
     "data": {
      "text/html": [
       "Tracking run with wandb version 0.16.0"
      ],
      "text/plain": [
       "<IPython.core.display.HTML object>"
      ]
     },
     "metadata": {},
     "output_type": "display_data"
    },
    {
     "data": {
      "text/html": [
       "Run data is saved locally in <code>/home2/sanika/project-ai-scream/wandb/run-20231130_011951-bf89vvdm</code>"
      ],
      "text/plain": [
       "<IPython.core.display.HTML object>"
      ]
     },
     "metadata": {},
     "output_type": "display_data"
    },
    {
     "data": {
      "text/html": [
       "Syncing run <strong><a href='https://wandb.ai/project-ai-scream/cos-angle/runs/bf89vvdm' target=\"_blank\">whole-sweep-1</a></strong> to <a href='https://wandb.ai/project-ai-scream/cos-angle' target=\"_blank\">Weights & Biases</a> (<a href='https://wandb.me/run' target=\"_blank\">docs</a>)<br/>Sweep page: <a href='https://wandb.ai/project-ai-scream/cos-angle/sweeps/iaqs0oiw' target=\"_blank\">https://wandb.ai/project-ai-scream/cos-angle/sweeps/iaqs0oiw</a>"
      ],
      "text/plain": [
       "<IPython.core.display.HTML object>"
      ]
     },
     "metadata": {},
     "output_type": "display_data"
    },
    {
     "data": {
      "text/html": [
       " View project at <a href='https://wandb.ai/project-ai-scream/cos-angle' target=\"_blank\">https://wandb.ai/project-ai-scream/cos-angle</a>"
      ],
      "text/plain": [
       "<IPython.core.display.HTML object>"
      ]
     },
     "metadata": {},
     "output_type": "display_data"
    },
    {
     "data": {
      "text/html": [
       " View sweep at <a href='https://wandb.ai/project-ai-scream/cos-angle/sweeps/iaqs0oiw' target=\"_blank\">https://wandb.ai/project-ai-scream/cos-angle/sweeps/iaqs0oiw</a>"
      ],
      "text/plain": [
       "<IPython.core.display.HTML object>"
      ]
     },
     "metadata": {},
     "output_type": "display_data"
    },
    {
     "data": {
      "text/html": [
       " View run at <a href='https://wandb.ai/project-ai-scream/cos-angle/runs/bf89vvdm' target=\"_blank\">https://wandb.ai/project-ai-scream/cos-angle/runs/bf89vvdm</a>"
      ],
      "text/plain": [
       "<IPython.core.display.HTML object>"
      ]
     },
     "metadata": {},
     "output_type": "display_data"
    },
    {
     "name": "stderr",
     "output_type": "stream",
     "text": [
      "100%|██████████| 50/50 [08:55<00:00, 10.71s/it]\n"
     ]
    },
    {
     "data": {
      "text/html": [
       "<style>\n",
       "    table.wandb td:nth-child(1) { padding: 0 10px; text-align: left ; width: auto;} td:nth-child(2) {text-align: left ; width: 100%}\n",
       "    .wandb-row { display: flex; flex-direction: row; flex-wrap: wrap; justify-content: flex-start; width: 100% }\n",
       "    .wandb-col { display: flex; flex-direction: column; flex-basis: 100%; flex: 1; padding: 10px; }\n",
       "    </style>\n",
       "<div class=\"wandb-row\"><div class=\"wandb-col\"><h3>Run history:</h3><br/><table class=\"wandb\"><tr><td>Cosine Similarity Layer 10</td><td>███▇▇▆▇▆▇▆▇▇▅▂▅▅▆▆▄▃▂▅▄▆▅▄▆▇▂▆▃▄▇▁▃▅▆▆▇▆</td></tr><tr><td>Cosine Similarity Layer 5</td><td>█▆▇██▇▇▇▇▇▇▇▇▆▇▅█▇▇▇▇▆▇▆▇▇▆▇██▆▇▇▇▁▇▇▇▇▇</td></tr><tr><td>Epoch</td><td>▁▁▁▁▂▂▂▂▂▃▃▃▃▃▃▄▄▄▄▄▅▅▅▅▅▅▆▆▆▆▆▇▇▇▇▇▇███</td></tr><tr><td>L2 Distance Layer 10</td><td>▁▂▃▄▄▅▄▅▃▅▄▃▆█▄▆▄▃▄▄▃▄▅▁▅▄▂▂▄▂▆▃▁▄▅▇▄▃▂▂</td></tr><tr><td>L2 Distance Layer 5</td><td>▁▂▂▂▃▃▃▃▃▄▄▄▄▇▄▆▃▄▄▃▃▄▃▂▃▃▂▂▃▂▆▂▂▃█▅▃▂▂▂</td></tr><tr><td>Loss</td><td>█▇▆▅▄▄▃▃▃▂▂▂▂▂▁▁▁▁▁▁▁▁▁▁▁▁▁▁▁▁▁▁▁▁▁▁▁▁▁▁</td></tr><tr><td>Train_Accuracy</td><td>▁▂▃▄▅▅▆▆▇▇▇▇▇███████████████████████████</td></tr></table><br/></div><div class=\"wandb-col\"><h3>Run summary:</h3><br/><table class=\"wandb\"><tr><td>Cosine Similarity Layer 10</td><td>0.80928</td></tr><tr><td>Cosine Similarity Layer 5</td><td>0.91475</td></tr><tr><td>Epoch</td><td>50</td></tr><tr><td>L2 Distance Layer 10</td><td>0.04934</td></tr><tr><td>L2 Distance Layer 5</td><td>0.20863</td></tr><tr><td>Loss</td><td>0.0408</td></tr><tr><td>Train_Accuracy</td><td>98.79575</td></tr></table><br/></div></div>"
      ],
      "text/plain": [
       "<IPython.core.display.HTML object>"
      ]
     },
     "metadata": {},
     "output_type": "display_data"
    },
    {
     "data": {
      "text/html": [
       " View run <strong style=\"color:#cdcd00\">whole-sweep-1</strong> at: <a href='https://wandb.ai/project-ai-scream/cos-angle/runs/bf89vvdm' target=\"_blank\">https://wandb.ai/project-ai-scream/cos-angle/runs/bf89vvdm</a><br/>Synced 6 W&B file(s), 0 media file(s), 0 artifact file(s) and 0 other file(s)"
      ],
      "text/plain": [
       "<IPython.core.display.HTML object>"
      ]
     },
     "metadata": {},
     "output_type": "display_data"
    },
    {
     "data": {
      "text/html": [
       "Find logs at: <code>./wandb/run-20231130_011951-bf89vvdm/logs</code>"
      ],
      "text/plain": [
       "<IPython.core.display.HTML object>"
      ]
     },
     "metadata": {},
     "output_type": "display_data"
    },
    {
     "name": "stderr",
     "output_type": "stream",
     "text": [
      "\u001b[34m\u001b[1mwandb\u001b[0m: Agent Starting Run: 8ytz8b0k with config:\n",
      "\u001b[34m\u001b[1mwandb\u001b[0m: \tbatchnorm: True\n",
      "Failed to detect the name of this notebook, you can set it manually with the WANDB_NOTEBOOK_NAME environment variable to enable code saving.\n"
     ]
    },
    {
     "data": {
      "text/html": [
       "Tracking run with wandb version 0.16.0"
      ],
      "text/plain": [
       "<IPython.core.display.HTML object>"
      ]
     },
     "metadata": {},
     "output_type": "display_data"
    },
    {
     "data": {
      "text/html": [
       "Run data is saved locally in <code>/home2/sanika/project-ai-scream/wandb/run-20231130_012904-8ytz8b0k</code>"
      ],
      "text/plain": [
       "<IPython.core.display.HTML object>"
      ]
     },
     "metadata": {},
     "output_type": "display_data"
    },
    {
     "data": {
      "text/html": [
       "Syncing run <strong><a href='https://wandb.ai/project-ai-scream/cos-angle/runs/8ytz8b0k' target=\"_blank\">rare-sweep-2</a></strong> to <a href='https://wandb.ai/project-ai-scream/cos-angle' target=\"_blank\">Weights & Biases</a> (<a href='https://wandb.me/run' target=\"_blank\">docs</a>)<br/>Sweep page: <a href='https://wandb.ai/project-ai-scream/cos-angle/sweeps/iaqs0oiw' target=\"_blank\">https://wandb.ai/project-ai-scream/cos-angle/sweeps/iaqs0oiw</a>"
      ],
      "text/plain": [
       "<IPython.core.display.HTML object>"
      ]
     },
     "metadata": {},
     "output_type": "display_data"
    },
    {
     "data": {
      "text/html": [
       " View project at <a href='https://wandb.ai/project-ai-scream/cos-angle' target=\"_blank\">https://wandb.ai/project-ai-scream/cos-angle</a>"
      ],
      "text/plain": [
       "<IPython.core.display.HTML object>"
      ]
     },
     "metadata": {},
     "output_type": "display_data"
    },
    {
     "data": {
      "text/html": [
       " View sweep at <a href='https://wandb.ai/project-ai-scream/cos-angle/sweeps/iaqs0oiw' target=\"_blank\">https://wandb.ai/project-ai-scream/cos-angle/sweeps/iaqs0oiw</a>"
      ],
      "text/plain": [
       "<IPython.core.display.HTML object>"
      ]
     },
     "metadata": {},
     "output_type": "display_data"
    },
    {
     "data": {
      "text/html": [
       " View run at <a href='https://wandb.ai/project-ai-scream/cos-angle/runs/8ytz8b0k' target=\"_blank\">https://wandb.ai/project-ai-scream/cos-angle/runs/8ytz8b0k</a>"
      ],
      "text/plain": [
       "<IPython.core.display.HTML object>"
      ]
     },
     "metadata": {},
     "output_type": "display_data"
    },
    {
     "name": "stderr",
     "output_type": "stream",
     "text": [
      "100%|██████████| 50/50 [09:56<00:00, 11.93s/it]\n"
     ]
    },
    {
     "data": {
      "text/html": [
       "<style>\n",
       "    table.wandb td:nth-child(1) { padding: 0 10px; text-align: left ; width: auto;} td:nth-child(2) {text-align: left ; width: 100%}\n",
       "    .wandb-row { display: flex; flex-direction: row; flex-wrap: wrap; justify-content: flex-start; width: 100% }\n",
       "    .wandb-col { display: flex; flex-direction: column; flex-basis: 100%; flex: 1; padding: 10px; }\n",
       "    </style>\n",
       "<div class=\"wandb-row\"><div class=\"wandb-col\"><h3>Run history:</h3><br/><table class=\"wandb\"><tr><td>Cosine Similarity Layer 10</td><td>▇███▇▇▆▇▆▇▇▆▅▇▆▅▄▃▆▅▅▃█▅▃▁▆▃▂▆▃▄▆▆▃▇▆▂▁▃</td></tr><tr><td>Cosine Similarity Layer 5</td><td>▇██████▇▇▇▇▇▅▇▇▇▇▆▆█▇▅▇█▇██▆▇█▆▇█▆▇▇▄▁▇▇</td></tr><tr><td>Epoch</td><td>▁▁▁▁▂▂▂▂▂▃▃▃▃▃▃▄▄▄▄▄▅▅▅▅▅▅▆▆▆▆▆▇▇▇▇▇▇███</td></tr><tr><td>L2 Distance Layer 10</td><td>██▅▄▆▅▅▆█▆▃▅▄▄▄▄▄▄▂▅▄▄▂▅▂▃▃▅▅▂▃▂▂▃▄▁▁▃▄▄</td></tr><tr><td>L2 Distance Layer 5</td><td>▂▄▃▃▄▄▄▆▇▅▄▆▆▄▅▄▄▄▄▃▄▇▂▄▂▂▂██▁▄▃▂▄▄▁▁▆▆▄</td></tr><tr><td>Loss</td><td>█▅▄▃▂▂▂▂▂▁▁▁▁▁▁▁▁▁▁▁▁▁▁▁▁▁▁▁▁▁▁▁▁▁▁▁▁▁▁▁</td></tr><tr><td>Train_Accuracy</td><td>▁▄▆▆▇▇▇▇████████████████████████████████</td></tr></table><br/></div><div class=\"wandb-col\"><h3>Run summary:</h3><br/><table class=\"wandb\"><tr><td>Cosine Similarity Layer 10</td><td>0.41172</td></tr><tr><td>Cosine Similarity Layer 5</td><td>0.90521</td></tr><tr><td>Epoch</td><td>50</td></tr><tr><td>L2 Distance Layer 10</td><td>0.04642</td></tr><tr><td>L2 Distance Layer 5</td><td>0.31084</td></tr><tr><td>Loss</td><td>0.02458</td></tr><tr><td>Train_Accuracy</td><td>99.26623</td></tr></table><br/></div></div>"
      ],
      "text/plain": [
       "<IPython.core.display.HTML object>"
      ]
     },
     "metadata": {},
     "output_type": "display_data"
    },
    {
     "data": {
      "text/html": [
       " View run <strong style=\"color:#cdcd00\">rare-sweep-2</strong> at: <a href='https://wandb.ai/project-ai-scream/cos-angle/runs/8ytz8b0k' target=\"_blank\">https://wandb.ai/project-ai-scream/cos-angle/runs/8ytz8b0k</a><br/>Synced 6 W&B file(s), 0 media file(s), 0 artifact file(s) and 0 other file(s)"
      ],
      "text/plain": [
       "<IPython.core.display.HTML object>"
      ]
     },
     "metadata": {},
     "output_type": "display_data"
    },
    {
     "data": {
      "text/html": [
       "Find logs at: <code>./wandb/run-20231130_012904-8ytz8b0k/logs</code>"
      ],
      "text/plain": [
       "<IPython.core.display.HTML object>"
      ]
     },
     "metadata": {},
     "output_type": "display_data"
    },
    {
     "name": "stderr",
     "output_type": "stream",
     "text": [
      "\u001b[34m\u001b[1mwandb\u001b[0m: Sweep Agent: Waiting for job.\n",
      "\u001b[34m\u001b[1mwandb\u001b[0m: Sweep Agent: Exiting.\n"
     ]
    }
   ],
   "source": [
    "wandb.agent(sweep_id, wandb_logging)"
   ]
  }
 ],
 "metadata": {
  "kernelspec": {
   "display_name": "smai",
   "language": "python",
   "name": "python3"
  },
  "language_info": {
   "codemirror_mode": {
    "name": "ipython",
    "version": 3
   },
   "file_extension": ".py",
   "mimetype": "text/x-python",
   "name": "python",
   "nbconvert_exporter": "python",
   "pygments_lexer": "ipython3",
   "version": "3.7.16"
  }
 },
 "nbformat": 4,
 "nbformat_minor": 2
}
