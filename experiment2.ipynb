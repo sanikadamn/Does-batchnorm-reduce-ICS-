{
 "cells": [
  {
   "cell_type": "code",
   "execution_count": 1,
   "metadata": {},
   "outputs": [
    {
     "name": "stderr",
     "output_type": "stream",
     "text": [
      "/home2/sanika/miniconda3/envs/smai/lib/python3.7/site-packages/tqdm/auto.py:21: TqdmWarning: IProgress not found. Please update jupyter and ipywidgets. See https://ipywidgets.readthedocs.io/en/stable/user_install.html\n",
      "  from .autonotebook import tqdm as notebook_tqdm\n"
     ]
    }
   ],
   "source": [
    "import torch\n",
    "import torchvision.datasets as datasets\n",
    "import matplotlib.pyplot as plt\n",
    "from collections import Counter\n",
    "import numpy as np\n",
    "from torchvision.transforms import ToTensor\n",
    "from torch.utils.data import DataLoader, TensorDataset, random_split\n",
    "import torch.nn as nn\n",
    "from torch import optim\n",
    "from torch.autograd import Variable\n",
    "import scipy.io as sio\n",
    "from sklearn.model_selection import train_test_split\n",
    "from sklearn.metrics import confusion_matrix\n",
    "from sklearn.metrics import classification_report\n",
    "from torchvision import datasets, transforms\n",
    "from tqdm import tqdm"
   ]
  },
  {
   "cell_type": "code",
   "execution_count": null,
   "metadata": {},
   "outputs": [],
   "source": [
    "import wandb"
   ]
  },
  {
   "cell_type": "code",
   "execution_count": 3,
   "metadata": {},
   "outputs": [
    {
     "name": "stdout",
     "output_type": "stream",
     "text": [
      "Downloading https://www.cs.toronto.edu/~kriz/cifar-10-python.tar.gz to /scratch/cifar10/cifar-10-python.tar.gz\n"
     ]
    },
    {
     "name": "stderr",
     "output_type": "stream",
     "text": [
      "100%|██████████| 170498071/170498071 [00:33<00:00, 5043910.66it/s]\n"
     ]
    },
    {
     "name": "stdout",
     "output_type": "stream",
     "text": [
      "Extracting /scratch/cifar10/cifar-10-python.tar.gz to /scratch/cifar10\n"
     ]
    }
   ],
   "source": [
    "# download the cifar10 dataset\n",
    "trainset = datasets.CIFAR10(root='/scratch/cifar10', train=True, download=True, transform=ToTensor())"
   ]
  },
  {
   "cell_type": "code",
   "execution_count": 4,
   "metadata": {},
   "outputs": [],
   "source": [
    "testset = datasets.CIFAR10(root='/scratch/cifar10', train=False, download=False, transform=ToTensor())"
   ]
  },
  {
   "cell_type": "code",
   "execution_count": 5,
   "metadata": {},
   "outputs": [
    {
     "data": {
      "text/plain": [
       "device(type='cuda')"
      ]
     },
     "execution_count": 5,
     "metadata": {},
     "output_type": "execute_result"
    }
   ],
   "source": [
    "device = torch.device('cuda' if torch.cuda.is_available() else 'cpu')\n",
    "device"
   ]
  },
  {
   "cell_type": "code",
   "execution_count": null,
   "metadata": {},
   "outputs": [],
   "source": [
    "class VGG16(nn.Module):\n",
    "    def __init__(self, num_classes, batchnorm):\n",
    "        super(VGG16, self).__init__()\n",
    "        self.layer1 = self._make_layer(3, 64, batchnorm)\n",
    "        self.layer2 = self._make_layer(64, 64, batchnorm, maxpool=True)\n",
    "        self.layer3 = self._make_layer(64, 128, batchnorm)\n",
    "        self.layer4 = self._make_layer(128, 128, batchnorm, maxpool=True)\n",
    "        self.layer5 = self._make_layer(128, 256, batchnorm)\n",
    "        self.layer6 = self._make_layer(256, 256, batchnorm)\n",
    "        self.layer7 = self._make_layer(256, 256, batchnorm, maxpool=True)\n",
    "        self.layer8 = self._make_layer(256, 512, batchnorm)\n",
    "        self.layer9 = self._make_layer(512, 512, batchnorm)\n",
    "        self.layer10 = self._make_layer(512, 512, batchnorm, maxpool=True)\n",
    "        self.layer11 = self._make_layer(512, 512, batchnorm)\n",
    "        self.layer12 = self._make_layer(512, 512, batchnorm)\n",
    "        self.layer13 = self._make_layer(512, 512, batchnorm, maxpool=True)\n",
    "        self.layer14 = nn.Sequential(\n",
    "            nn.Dropout(0.5),\n",
    "            nn.Linear(512, 4096),\n",
    "            nn.ReLU(),\n",
    "        )\n",
    "        self.layer15 = nn.Sequential(\n",
    "            nn.Dropout(0.5),\n",
    "            nn.Linear(4096, 4096),\n",
    "            nn.ReLU(),\n",
    "        )\n",
    "        self.layer16 = nn.Sequential(\n",
    "            nn.Linear(4096, num_classes),\n",
    "        )\n",
    "\n",
    "    def _make_layer(self, in_channels, out_channels, batchnorm, maxpool=False):\n",
    "        layers = [\n",
    "            nn.Conv2d(in_channels, out_channels, kernel_size=3, padding=1, stride=1),\n",
    "        ]\n",
    "        \n",
    "        if batchnorm:\n",
    "            layers.append(nn.BatchNorm2d(out_channels))\n",
    "            \n",
    "        layers.append(nn.ReLU())\n",
    "        \n",
    "        if maxpool:\n",
    "            layers.append(nn.MaxPool2d(kernel_size=2, stride=2))\n",
    "            \n",
    "        return nn.Sequential(*layers)\n",
    "\n",
    "    def forward(self, x):\n",
    "        out = self.layer1(x)\n",
    "        out = self.layer2(out)\n",
    "        out = self.layer3(out)\n",
    "        out = self.layer4(out)\n",
    "        out = self.layer5(out)\n",
    "        out = self.layer6(out)\n",
    "        out = self.layer7(out)\n",
    "        out = self.layer8(out)\n",
    "        out = self.layer9(out)\n",
    "        out = self.layer10(out)\n",
    "        out = self.layer11(out)\n",
    "        out = self.layer12(out)\n",
    "        out = self.layer13(out)\n",
    "        out = out.view(out.size(0), -1)\n",
    "        out = self.layer14(out)\n",
    "        out = self.layer15(out)\n",
    "        out = self.layer16(out)\n",
    "        return out\n",
    "   \n",
    "    def fit(self, loaders, epochs, device, learning_rate):\n",
    "        self.to(device)\n",
    "        criterion = nn.CrossEntropyLoss().to(device)\n",
    "        # adamoptimizer\n",
    "        optimizer = torch.optim.Adam(self.parameters(), lr=learning_rate)\n",
    "        for epoch in range(epochs):\n",
    "            self.train().to(device)\n",
    "\n",
    "            total_loss = 0\n",
    "            correct = 0\n",
    "            total = 0\n",
    "\n",
    "            for i, (images, labels) in enumerate(loaders['train']):\n",
    "                self.train().to(device)\n",
    "                optimizer.zero_grad()\n",
    "\n",
    "                images = images.to(device)\n",
    "                labels = labels.to(device)\n",
    "                \n",
    "                outputs = self(images)\n",
    "                loss = criterion(outputs, labels)\n",
    "                \n",
    "                loss.backward()\n",
    "                optimizer.step()\n",
    "\n",
    "                total_loss += loss.item()\n",
    "                _, predicted = torch.max(outputs.data, 1)\n",
    "                total += labels.size(0)\n",
    "                correct += (predicted == labels).sum().item()\n",
    "                # print accuracy and loss for each batch\n",
    "                # save the loss and accuracy into a file\n",
    "                if(i % 30 == 0):\n",
    "                    # open file for training accuracy\n",
    "                    wandb.log({\"Epoch\": epoch + 1, \"Loss\": total_loss / (i + 1), \"Train_Accuracy\": 100 *correct / total})\n",
    "                    # ftrain.write(f'Epoch: {epoch + 1}, Batch: {i + 1}, Loss: {total_loss / (i + 1)}, Accuracy: {100 * correct / total}\\n')\n",
    "\n",
    "                # set to eval mode, find accuracy on trainset\n",
    "                if(i % 30 == 0):\n",
    "                    self.eval().to(device)\n",
    "                    test_total = 0\n",
    "                    test_correct = 0\n",
    "                    for j, (imagestest, labelstest) in enumerate(loaders['test']):\n",
    "                        imagestest = imagestest.to(device)\n",
    "                        labelstest = labelstest.to(device)\n",
    "                        outputstest = self(imagestest)\n",
    "                        _, predictedtest = torch.max(outputstest.data, 1)\n",
    "                        test_total += labelstest.size(0)\n",
    "                        test_correct += (predictedtest == labelstest).sum().item()\n",
    "                    # print accuracy and loss for each batch\n",
    "                    # save the loss and accuracy into a file\n",
    "                    wandb.log({\"Epoch\": epoch + 1, \"Loss\": total_loss / (i + 1), \"TestAccuracy\": 100 * test_correct / test_total})\n",
    "                    # ftest.write(f'Epoch: {epoch + 1}, Batch: {i + 1}, Accuracy: {100 * test_correct / test_total}\\n')\n",
    "                    \n",
    "            total_loss = total_loss / len(loaders['train'])\n",
    "            accuracy = 100 * correct / total\n",
    "            print('Epoch: {}, Loss: {:.4f}, Accuracy: {:.2f}%'.format(epoch + 1, total_loss, accuracy))\n"
   ]
  }
 ],
 "metadata": {
  "kernelspec": {
   "display_name": "smai",
   "language": "python",
   "name": "python3"
  },
  "language_info": {
   "codemirror_mode": {
    "name": "ipython",
    "version": 3
   },
   "file_extension": ".py",
   "mimetype": "text/x-python",
   "name": "python",
   "nbconvert_exporter": "python",
   "pygments_lexer": "ipython3",
   "version": "3.7.16"
  }
 },
 "nbformat": 4,
 "nbformat_minor": 2
}
